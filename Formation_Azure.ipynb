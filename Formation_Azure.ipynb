{
 "cells": [
  {
   "cell_type": "markdown",
   "metadata": {},
   "source": [
    "### Création d'un espace de travail Azure"
   ]
  },
  {
   "cell_type": "markdown",
   "metadata": {},
   "source": [
    "- via un SDK python"
   ]
  },
  {
   "cell_type": "code",
   "execution_count": null,
   "metadata": {},
   "outputs": [],
   "source": [
    " from azureml.core import Workspace\n",
    "    \n",
    "    ws = Workspace.create(name='aml-workspace', \n",
    "                      subscription_id='123456-abc-123...',\n",
    "                      resource_group='aml-resources',\n",
    "                      create_resource_group=True,\n",
    "                      location='eastus',\n",
    "                      sku='enterprise'\n",
    "                     )"
   ]
  },
  {
   "cell_type": "markdown",
   "metadata": {},
   "source": [
    "- via l’interface de ligne de commande (CLI) Azure avec l’extension CLI Azure Machine Learning"
   ]
  },
  {
   "cell_type": "code",
   "execution_count": null,
   "metadata": {},
   "outputs": [],
   "source": [
    "az ml workspace create -w 'aml-workspace' -g 'aml-resources'\n"
   ]
  },
  {
   "cell_type": "code",
   "execution_count": 1,
   "metadata": {},
   "outputs": [
    {
     "name": "stdout",
     "output_type": "stream",
     "text": [
      "Collecting azureml-sdk\n",
      "  Downloading https://files.pythonhosted.org/packages/c0/cf/99365c6726480de59e343ff2702bf9101d2dac36114087909fddf7586f1a/azureml_sdk-1.2.0-py3-none-any.whl\n",
      "Collecting azureml-pipeline~=1.2.0 (from azureml-sdk)\n",
      "  Downloading https://files.pythonhosted.org/packages/d9/d1/e4fa649e6cb16ef35f437c8b72b328cc4042dc2efa1402f2a3570aac6dbb/azureml_pipeline-1.2.0-py3-none-any.whl\n",
      "Collecting azureml-core~=1.2.0 (from azureml-sdk)\n",
      "\u001b[?25l  Downloading https://files.pythonhosted.org/packages/45/16/0e6c869655cdd2fa539cdce6a803461cc67864608fc21ad0d0e1b0c474aa/azureml_core-1.2.0.post1-py3-none-any.whl (1.2MB)\n",
      "\u001b[K     |████████████████████████████████| 1.2MB 2.0MB/s eta 0:00:01\n",
      "\u001b[?25hCollecting azureml-train-automl-client~=1.2.0 (from azureml-sdk)\n",
      "\u001b[?25l  Downloading https://files.pythonhosted.org/packages/36/4e/a209599566577b999ce26abac094a9fb4f797a63b2cf347f5f2c7bcb5c02/azureml_train_automl_client-1.2.0-py3-none-any.whl (78kB)\n",
      "\u001b[K     |████████████████████████████████| 81kB 2.2MB/s eta 0:00:01\n",
      "\u001b[?25hCollecting azureml-dataprep[fuse]<1.4.0a,>=1.3.5 (from azureml-sdk)\n",
      "\u001b[?25l  Downloading https://files.pythonhosted.org/packages/9b/c8/7155020ae91f33d9baeebae72f78679390d704a25fb5cfb878fc48eb596c/azureml_dataprep-1.3.5-py3-none-any.whl (26.6MB)\n",
      "\u001b[K     |████████████████████████████████| 26.7MB 2.0MB/s eta 0:00:01\n",
      "\u001b[?25hCollecting azureml-train~=1.2.0 (from azureml-sdk)\n",
      "  Downloading https://files.pythonhosted.org/packages/9a/9a/783dff7b693e15694080546a5cca03811cb56e0cebed1fe67903dd145cf8/azureml_train-1.2.0-py3-none-any.whl\n",
      "Collecting azureml-pipeline-steps~=1.2.0 (from azureml-pipeline~=1.2.0->azureml-sdk)\n",
      "\u001b[?25l  Downloading https://files.pythonhosted.org/packages/6d/e2/fc63b6e127906689d6a25601089d9c31de4b598c588a36f395f6aa26e7b0/azureml_pipeline_steps-1.2.0-py3-none-any.whl (48kB)\n",
      "\u001b[K     |████████████████████████████████| 51kB 779kB/s eta 0:00:01\n",
      "\u001b[?25hCollecting azureml-pipeline-core~=1.2.0 (from azureml-pipeline~=1.2.0->azureml-sdk)\n",
      "\u001b[?25l  Downloading https://files.pythonhosted.org/packages/0c/46/8ef7237daf64dcb8ee8e52511761e2128e60f441f2e830115a93538dea69/azureml_pipeline_core-1.2.0-py3-none-any.whl (271kB)\n",
      "\u001b[K     |████████████████████████████████| 276kB 1.6MB/s eta 0:00:01\n",
      "\u001b[?25hRequirement already satisfied: pytz in /opt/anaconda3/lib/python3.7/site-packages (from azureml-core~=1.2.0->azureml-sdk) (2019.3)\n",
      "Requirement already satisfied: python-dateutil>=2.7.3 in /opt/anaconda3/lib/python3.7/site-packages (from azureml-core~=1.2.0->azureml-sdk) (2.8.0)\n",
      "Requirement already satisfied: contextlib2 in /opt/anaconda3/lib/python3.7/site-packages (from azureml-core~=1.2.0->azureml-sdk) (0.6.0)\n",
      "Collecting ruamel.yaml<=0.15.89,>=0.15.35 (from azureml-core~=1.2.0->azureml-sdk)\n",
      "\u001b[?25l  Downloading https://files.pythonhosted.org/packages/3b/37/c605e88fbbd6f2ef9896bd3d8477e8581e527193c87094f4ba10442c85af/ruamel.yaml-0.15.89-cp37-cp37m-macosx_10_9_x86_64.whl (247kB)\n",
      "\u001b[K     |████████████████████████████████| 256kB 1.9MB/s eta 0:00:01\n",
      "\u001b[?25hCollecting azure-mgmt-keyvault>=0.40.0 (from azureml-core~=1.2.0->azureml-sdk)\n",
      "\u001b[?25l  Downloading https://files.pythonhosted.org/packages/f1/af/1ba15e7176bcf6b1531b453e410ae41a983c09f834d8700dfce739451b53/azure_mgmt_keyvault-2.2.0-py2.py3-none-any.whl (89kB)\n",
      "\u001b[K     |████████████████████████████████| 92kB 2.5MB/s eta 0:00:01\n",
      "\u001b[?25hRequirement already satisfied: pyopenssl in /opt/anaconda3/lib/python3.7/site-packages (from azureml-core~=1.2.0->azureml-sdk) (19.0.0)\n",
      "Collecting msrestazure>=0.4.33 (from azureml-core~=1.2.0->azureml-sdk)\n",
      "\u001b[?25l  Downloading https://files.pythonhosted.org/packages/01/70/4abd575d876428e3892ca6b7acafb59b53cb9923fa6aec2cbbf173495ce1/msrestazure-0.6.3-py2.py3-none-any.whl (40kB)\n",
      "\u001b[K     |████████████████████████████████| 40kB 3.4MB/s eta 0:00:01\n",
      "\u001b[?25hCollecting jmespath (from azureml-core~=1.2.0->azureml-sdk)\n",
      "  Downloading https://files.pythonhosted.org/packages/a3/43/1e939e1fcd87b827fe192d0c9fc25b48c5b3368902bfb913de7754b0dc03/jmespath-0.9.5-py2.py3-none-any.whl\n",
      "Requirement already satisfied: requests>=2.19.1 in /opt/anaconda3/lib/python3.7/site-packages (from azureml-core~=1.2.0->azureml-sdk) (2.22.0)\n",
      "Requirement already satisfied: cryptography!=1.9,!=2.0.*,!=2.1.*,!=2.2.* in /opt/anaconda3/lib/python3.7/site-packages (from azureml-core~=1.2.0->azureml-sdk) (2.7)\n",
      "Collecting azure-mgmt-storage>=1.5.0 (from azureml-core~=1.2.0->azureml-sdk)\n",
      "\u001b[?25l  Downloading https://files.pythonhosted.org/packages/65/f0/8486761674c640c48219824b3ccd3cc571a792d1a0e90c8d25ed0e202d8d/azure_mgmt_storage-9.0.0-py2.py3-none-any.whl (525kB)\n",
      "\u001b[K     |████████████████████████████████| 532kB 1.4MB/s eta 0:00:01\n",
      "\u001b[?25hCollecting azure-mgmt-containerregistry>=2.0.0 (from azureml-core~=1.2.0->azureml-sdk)\n",
      "\u001b[?25l  Downloading https://files.pythonhosted.org/packages/97/70/8c2d0509db466678eba16fa2b0a539499f3b351b1f2993126ad843d5be13/azure_mgmt_containerregistry-2.8.0-py2.py3-none-any.whl (718kB)\n",
      "\u001b[K     |████████████████████████████████| 727kB 2.3MB/s eta 0:00:01\n",
      "\u001b[?25hCollecting msrest>=0.5.1 (from azureml-core~=1.2.0->azureml-sdk)\n",
      "\u001b[?25l  Downloading https://files.pythonhosted.org/packages/f1/fe/a6786f141181a8f0579e4d7ed048812b1c395a6c265a46fc478be03ff4c1/msrest-0.6.11-py2.py3-none-any.whl (83kB)\n",
      "\u001b[K     |████████████████████████████████| 92kB 2.1MB/s eta 0:00:01\n",
      "\u001b[?25hCollecting azure-mgmt-resource>=1.2.1 (from azureml-core~=1.2.0->azureml-sdk)\n",
      "\u001b[?25l  Downloading https://files.pythonhosted.org/packages/35/b3/87b49dfb82f8868b47ec6da76812cd2549db65c87474f6bcfc458b2a7999/azure_mgmt_resource-8.0.1-py2.py3-none-any.whl (758kB)\n",
      "\u001b[K     |████████████████████████████████| 768kB 2.5MB/s eta 0:00:01\n",
      "\u001b[?25hCollecting PyJWT (from azureml-core~=1.2.0->azureml-sdk)\n",
      "  Downloading https://files.pythonhosted.org/packages/87/8b/6a9f14b5f781697e51259d81657e6048fd31a113229cf346880bb7545565/PyJWT-1.7.1-py2.py3-none-any.whl\n",
      "Collecting SecretStorage (from azureml-core~=1.2.0->azureml-sdk)\n",
      "  Downloading https://files.pythonhosted.org/packages/c3/50/8a02cad020e949e6d7105f5f4530d41e3febcaa5b73f8f2148aacb3aeba5/SecretStorage-3.1.2-py3-none-any.whl\n",
      "Collecting azure-mgmt-authorization>=0.40.0 (from azureml-core~=1.2.0->azureml-sdk)\n",
      "\u001b[?25l  Downloading https://files.pythonhosted.org/packages/5e/17/4724694ddb3311955ddc367eddcd0928f8ee2c7b12d5a6f0b12bca0b03db/azure_mgmt_authorization-0.60.0-py2.py3-none-any.whl (82kB)\n",
      "\u001b[K     |████████████████████████████████| 92kB 2.1MB/s eta 0:00:01\n",
      "\u001b[?25hCollecting jsonpickle (from azureml-core~=1.2.0->azureml-sdk)\n",
      "  Downloading https://files.pythonhosted.org/packages/7e/6b/fbb2d499b96861a18c1641f6fefe775110d3faba65c1524950e9ad64824a/jsonpickle-1.3-py2.py3-none-any.whl\n",
      "Collecting azure-common>=1.1.12 (from azureml-core~=1.2.0->azureml-sdk)\n",
      "  Downloading https://files.pythonhosted.org/packages/e5/4d/d000fc3c5af601d00d55750b71da5c231fcb128f42ac95b208ed1091c2c1/azure_common-1.1.25-py2.py3-none-any.whl\n",
      "Requirement already satisfied: urllib3>=1.23 in /opt/anaconda3/lib/python3.7/site-packages (from azureml-core~=1.2.0->azureml-sdk) (1.24.2)\n",
      "Collecting ndg-httpsclient (from azureml-core~=1.2.0->azureml-sdk)\n",
      "  Downloading https://files.pythonhosted.org/packages/fb/67/c2f508c00ed2a6911541494504b7cac16fe0b0473912568df65fd1801132/ndg_httpsclient-0.5.1-py3-none-any.whl\n",
      "Requirement already satisfied: backports.tempfile in /opt/anaconda3/lib/python3.7/site-packages (from azureml-core~=1.2.0->azureml-sdk) (1.0)\n",
      "Collecting adal>=1.2.0 (from azureml-core~=1.2.0->azureml-sdk)\n",
      "\u001b[?25l  Downloading https://files.pythonhosted.org/packages/4f/b5/3ea9ae3d1096b9ff31e8f1846c47d49f3129a12464ac0a73b602de458298/adal-1.2.2-py2.py3-none-any.whl (53kB)\n",
      "\u001b[K     |████████████████████████████████| 61kB 2.0MB/s eta 0:00:01\n",
      "\u001b[?25hRequirement already satisfied: pathspec in /opt/anaconda3/lib/python3.7/site-packages (from azureml-core~=1.2.0->azureml-sdk) (0.7.0)\n",
      "Collecting docker (from azureml-core~=1.2.0->azureml-sdk)\n",
      "\u001b[?25l  Downloading https://files.pythonhosted.org/packages/58/74/379a9d30b1620def158c40b88c43e01c1936a287ebb97afab0699c601c57/docker-4.2.0-py2.py3-none-any.whl (143kB)\n",
      "\u001b[K     |████████████████████████████████| 153kB 2.4MB/s eta 0:00:01\n",
      "\u001b[?25hCollecting azure-graphrbac>=0.40.0 (from azureml-core~=1.2.0->azureml-sdk)\n",
      "\u001b[?25l  Downloading https://files.pythonhosted.org/packages/3e/93/02056aca45162f9fc275d1eaad12a2a07ef92375afb48eabddc4134b8315/azure_graphrbac-0.61.1-py2.py3-none-any.whl (141kB)\n"
     ]
    },
    {
     "name": "stdout",
     "output_type": "stream",
     "text": [
      "\u001b[K     |████████████████████████████████| 143kB 2.2MB/s eta 0:00:01\n",
      "\u001b[?25hCollecting azureml-automl-core~=1.2.0 (from azureml-train-automl-client~=1.2.0->azureml-sdk)\n",
      "\u001b[?25l  Downloading https://files.pythonhosted.org/packages/2c/bc/7b0d582c8b1c68a1e29f8d96d10795f53c3bc90b44cf6cfa100339694e4d/azureml_automl_core-1.2.0-py3-none-any.whl (113kB)\n",
      "\u001b[K     |████████████████████████████████| 122kB 3.0MB/s eta 0:00:01\n",
      "\u001b[?25hCollecting azureml-telemetry~=1.2.0 (from azureml-train-automl-client~=1.2.0->azureml-sdk)\n",
      "  Downloading https://files.pythonhosted.org/packages/8a/8a/ddb45058cafc7905e09a0092defff44b5c9dfa4306343342475845af79a3/azureml_telemetry-1.2.0-py3-none-any.whl\n",
      "Requirement already satisfied: cloudpickle>=1.1.0 in /opt/anaconda3/lib/python3.7/site-packages (from azureml-dataprep[fuse]<1.4.0a,>=1.3.5->azureml-sdk) (1.2.2)\n",
      "Collecting azure-identity>=1.2.0 (from azureml-dataprep[fuse]<1.4.0a,>=1.3.5->azureml-sdk)\n",
      "\u001b[?25l  Downloading https://files.pythonhosted.org/packages/9b/c9/3ca9cdb73e72329907348dd1fcd34eb03d4d49f9b14e078b6d0e6f8fabc0/azure_identity-1.3.0-py2.py3-none-any.whl (61kB)\n",
      "\u001b[K     |████████████████████████████████| 61kB 278kB/s eta 0:00:01\n",
      "\u001b[?25hCollecting dotnetcore2>=2.1.13 (from azureml-dataprep[fuse]<1.4.0a,>=1.3.5->azureml-sdk)\n",
      "\u001b[?25l  Downloading https://files.pythonhosted.org/packages/3b/fa/181ef3fa575ed0a3b37b1850b2c221044b4b58a0ecea2aac9700dc0cac8d/dotnetcore2-2.1.13-py3-none-macosx_10_9_x86_64.whl (28.2MB)\n",
      "\u001b[K     |████████████████████████████████| 28.2MB 1.6MB/s eta 0:00:01     |███████████████████████▍        | 20.6MB 1.6MB/s eta 0:00:05     |████████████████████████▋       | 21.7MB 1.6MB/s eta 0:00:05\n",
      "\u001b[?25hCollecting azureml-dataprep-native<15.0.0,>=14.1.0 (from azureml-dataprep[fuse]<1.4.0a,>=1.3.5->azureml-sdk)\n",
      "\u001b[?25l  Downloading https://files.pythonhosted.org/packages/e5/73/b581caee350aa2bd82159bcf0408d3046d0e91489fb345f151dcd86c679d/azureml_dataprep_native-14.1.0-cp37-cp37m-macosx_10_9_x86_64.whl (145kB)\n",
      "\u001b[K     |████████████████████████████████| 153kB 2.3MB/s eta 0:00:01\n",
      "\u001b[?25hCollecting fusepy>=3.0.1; extra == \"fuse\" (from azureml-dataprep[fuse]<1.4.0a,>=1.3.5->azureml-sdk)\n",
      "  Downloading https://files.pythonhosted.org/packages/04/0b/4506cb2e831cea4b0214d3625430e921faaa05a7fb520458c75a2dbd2152/fusepy-3.0.1.tar.gz\n",
      "Collecting azureml-train-core~=1.2.0 (from azureml-train~=1.2.0->azureml-sdk)\n",
      "\u001b[?25l  Downloading https://files.pythonhosted.org/packages/4c/49/feb734dfc4b69813e57f3c5fa3a1819c804f12ab68ac4bfed7023b74857c/azureml_train_core-1.2.0-py3-none-any.whl (8.6MB)\n",
      "\u001b[K     |████████████████████████████████| 8.6MB 1.1MB/s eta 0:00:01     |██████████████▋                 | 4.0MB 2.1MB/s eta 0:00:03     |███████████████████████████     | 7.3MB 1.1MB/s eta 0:00:02\n",
      "\u001b[?25hRequirement already satisfied: six>=1.5 in /opt/anaconda3/lib/python3.7/site-packages (from python-dateutil>=2.7.3->azureml-core~=1.2.0->azureml-sdk) (1.12.0)\n",
      "Requirement already satisfied: idna<2.9,>=2.5 in /opt/anaconda3/lib/python3.7/site-packages (from requests>=2.19.1->azureml-core~=1.2.0->azureml-sdk) (2.8)\n",
      "Requirement already satisfied: chardet<3.1.0,>=3.0.2 in /opt/anaconda3/lib/python3.7/site-packages (from requests>=2.19.1->azureml-core~=1.2.0->azureml-sdk) (3.0.4)\n",
      "Requirement already satisfied: certifi>=2017.4.17 in /opt/anaconda3/lib/python3.7/site-packages (from requests>=2.19.1->azureml-core~=1.2.0->azureml-sdk) (2019.9.11)\n",
      "Requirement already satisfied: cffi!=1.11.3,>=1.8 in /opt/anaconda3/lib/python3.7/site-packages (from cryptography!=1.9,!=2.0.*,!=2.1.*,!=2.2.*->azureml-core~=1.2.0->azureml-sdk) (1.12.3)\n",
      "Requirement already satisfied: asn1crypto>=0.21.0 in /opt/anaconda3/lib/python3.7/site-packages (from cryptography!=1.9,!=2.0.*,!=2.1.*,!=2.2.*->azureml-core~=1.2.0->azureml-sdk) (1.0.1)\n",
      "Collecting isodate>=0.6.0 (from msrest>=0.5.1->azureml-core~=1.2.0->azureml-sdk)\n",
      "  Using cached https://files.pythonhosted.org/packages/9b/9f/b36f7774ff5ea8e428fdcfc4bb332c39ee5b9362ddd3d40d9516a55221b2/isodate-0.6.0-py2.py3-none-any.whl\n",
      "Collecting requests-oauthlib>=0.5.0 (from msrest>=0.5.1->azureml-core~=1.2.0->azureml-sdk)\n",
      "  Using cached https://files.pythonhosted.org/packages/a3/12/b92740d845ab62ea4edf04d2f4164d82532b5a0b03836d4d4e71c6f3d379/requests_oauthlib-1.3.0-py2.py3-none-any.whl\n",
      "Collecting jeepney>=0.4.2 (from SecretStorage->azureml-core~=1.2.0->azureml-sdk)\n",
      "  Downloading https://files.pythonhosted.org/packages/79/31/2e8d42727595faf224c6dbb748c32b192e212f25495fe841fb7ce8e168b8/jeepney-0.4.3-py3-none-any.whl\n",
      "Requirement already satisfied: pyasn1>=0.1.1 in /opt/anaconda3/lib/python3.7/site-packages (from ndg-httpsclient->azureml-core~=1.2.0->azureml-sdk) (0.4.8)\n",
      "Requirement already satisfied: backports.weakref in /opt/anaconda3/lib/python3.7/site-packages (from backports.tempfile->azureml-core~=1.2.0->azureml-sdk) (1.0.post1)\n",
      "Collecting websocket-client>=0.32.0 (from docker->azureml-core~=1.2.0->azureml-sdk)\n",
      "\u001b[?25l  Downloading https://files.pythonhosted.org/packages/4c/5f/f61b420143ed1c8dc69f9eaec5ff1ac36109d52c80de49d66e0c36c3dfdf/websocket_client-0.57.0-py2.py3-none-any.whl (200kB)\n",
      "\u001b[K     |████████████████████████████████| 204kB 2.9MB/s eta 0:00:01\n",
      "\u001b[?25hCollecting applicationinsights (from azureml-telemetry~=1.2.0->azureml-train-automl-client~=1.2.0->azureml-sdk)\n",
      "\u001b[?25l  Downloading https://files.pythonhosted.org/packages/a1/53/234c53004f71f0717d8acd37876e0b65c121181167057b9ce1b1795f96a0/applicationinsights-0.11.9-py2.py3-none-any.whl (58kB)\n",
      "\u001b[K     |████████████████████████████████| 61kB 1.9MB/s eta 0:00:01\n",
      "\u001b[?25hCollecting msal-extensions~=0.1.3 (from azure-identity>=1.2.0->azureml-dataprep[fuse]<1.4.0a,>=1.3.5->azureml-sdk)\n",
      "  Downloading https://files.pythonhosted.org/packages/21/9b/8bc67822e98573fe0460e30ad0202ab9e0638a42878041c65a6fe857babe/msal_extensions-0.1.3-py2.py3-none-any.whl\n",
      "Collecting msal<2.0.0,>=1.0.0 (from azure-identity>=1.2.0->azureml-dataprep[fuse]<1.4.0a,>=1.3.5->azureml-sdk)\n",
      "\u001b[?25l  Downloading https://files.pythonhosted.org/packages/d6/de/11e9def2d98da8ddd1793db5e4b3c4398d923a561dad250bcf3cdce9be2b/msal-1.1.0-py2.py3-none-any.whl (44kB)\n",
      "\u001b[K     |████████████████████████████████| 51kB 4.1MB/s eta 0:00:01\n",
      "\u001b[?25hCollecting azure-core<2.0.0,>=1.0.0 (from azure-identity>=1.2.0->azureml-dataprep[fuse]<1.4.0a,>=1.3.5->azureml-sdk)\n",
      "\u001b[?25l  Downloading https://files.pythonhosted.org/packages/41/ed/3fe8be1f383bdaea4329462f5b2215785090547ac439965c48e814b8f02e/azure_core-1.3.0-py2.py3-none-any.whl (106kB)\n",
      "\u001b[K     |████████████████████████████████| 112kB 2.6MB/s eta 0:00:01\n",
      "\u001b[?25hCollecting distro>=1.2.0 (from dotnetcore2>=2.1.13->azureml-dataprep[fuse]<1.4.0a,>=1.3.5->azureml-sdk)\n",
      "  Downloading https://files.pythonhosted.org/packages/25/b7/b3c4270a11414cb22c6352ebc7a83aaa3712043be29daa05018fd5a5c956/distro-1.5.0-py2.py3-none-any.whl\n",
      "Collecting azureml-train-restclients-hyperdrive~=1.2.0 (from azureml-train-core~=1.2.0->azureml-train~=1.2.0->azureml-sdk)\n",
      "  Downloading https://files.pythonhosted.org/packages/82/de/50c67353c4a389a3e681c57c7c53ddba1cc51b8674dafd9d1d2bbf8a9109/azureml_train_restclients_hyperdrive-1.2.0-py3-none-any.whl\n",
      "Requirement already satisfied: flake8<=3.7.9,>=3.1.0; python_version >= \"3.6\" in /opt/anaconda3/lib/python3.7/site-packages (from azureml-train-core~=1.2.0->azureml-train~=1.2.0->azureml-sdk) (3.7.9)\n",
      "Requirement already satisfied: pycparser in /opt/anaconda3/lib/python3.7/site-packages (from cffi!=1.11.3,>=1.8->cryptography!=1.9,!=2.0.*,!=2.1.*,!=2.2.*->azureml-core~=1.2.0->azureml-sdk) (2.19)\n",
      "Collecting oauthlib>=3.0.0 (from requests-oauthlib>=0.5.0->msrest>=0.5.1->azureml-core~=1.2.0->azureml-sdk)\n",
      "  Using cached https://files.pythonhosted.org/packages/05/57/ce2e7a8fa7c0afb54a0581b14a65b56e62b5759dbc98e80627142b8a3704/oauthlib-3.1.0-py2.py3-none-any.whl\n",
      "Collecting portalocker~=1.0 (from msal-extensions~=0.1.3->azure-identity>=1.2.0->azureml-dataprep[fuse]<1.4.0a,>=1.3.5->azureml-sdk)\n",
      "  Downloading https://files.pythonhosted.org/packages/64/03/9abfb3374d67838daf24f1a388528714bec1debb1d13749f0abd7fb07cfb/portalocker-1.6.0-py2.py3-none-any.whl\n",
      "Requirement already satisfied: mccabe<0.7.0,>=0.6.0 in /opt/anaconda3/lib/python3.7/site-packages (from flake8<=3.7.9,>=3.1.0; python_version >= \"3.6\"->azureml-train-core~=1.2.0->azureml-train~=1.2.0->azureml-sdk) (0.6.1)\n",
      "Requirement already satisfied: entrypoints<0.4.0,>=0.3.0 in /opt/anaconda3/lib/python3.7/site-packages (from flake8<=3.7.9,>=3.1.0; python_version >= \"3.6\"->azureml-train-core~=1.2.0->azureml-train~=1.2.0->azureml-sdk) (0.3)\n",
      "Requirement already satisfied: pycodestyle<2.6.0,>=2.5.0 in /opt/anaconda3/lib/python3.7/site-packages (from flake8<=3.7.9,>=3.1.0; python_version >= \"3.6\"->azureml-train-core~=1.2.0->azureml-train~=1.2.0->azureml-sdk) (2.5.0)\n",
      "Requirement already satisfied: pyflakes<2.2.0,>=2.1.0 in /opt/anaconda3/lib/python3.7/site-packages (from flake8<=3.7.9,>=3.1.0; python_version >= \"3.6\"->azureml-train-core~=1.2.0->azureml-train~=1.2.0->azureml-sdk) (2.1.1)\n",
      "Building wheels for collected packages: fusepy\n"
     ]
    },
    {
     "name": "stdout",
     "output_type": "stream",
     "text": [
      "  Building wheel for fusepy (setup.py) ... \u001b[?25ldone\n",
      "\u001b[?25h  Created wheel for fusepy: filename=fusepy-3.0.1-cp37-none-any.whl size=10505 sha256=dfce8343761ee92df6da1865204c65e0589f0bb32f19f4ac3aa79d8c98717749\n",
      "  Stored in directory: /Users/louiserodriguez/Library/Caches/pip/wheels/4c/a5/91/7772af9e21c461f07bb40f26d928d7d231d224977dd8353bab\n",
      "Successfully built fusepy\n",
      "Installing collected packages: PyJWT, adal, isodate, oauthlib, requests-oauthlib, msrest, msrestazure, azureml-train-restclients-hyperdrive, ruamel.yaml, azure-common, azure-mgmt-keyvault, jmespath, azure-mgmt-storage, azure-mgmt-containerregistry, azure-mgmt-resource, jeepney, SecretStorage, azure-mgmt-authorization, jsonpickle, ndg-httpsclient, websocket-client, docker, azure-graphrbac, azureml-core, applicationinsights, azureml-telemetry, azureml-train-core, azureml-pipeline-core, portalocker, msal, msal-extensions, azure-core, azure-identity, distro, dotnetcore2, azureml-dataprep-native, fusepy, azureml-dataprep, azureml-automl-core, azureml-train-automl-client, azureml-pipeline-steps, azureml-pipeline, azureml-train, azureml-sdk\n",
      "Successfully installed PyJWT-1.7.1 SecretStorage-3.1.2 adal-1.2.2 applicationinsights-0.11.9 azure-common-1.1.25 azure-core-1.3.0 azure-graphrbac-0.61.1 azure-identity-1.3.0 azure-mgmt-authorization-0.60.0 azure-mgmt-containerregistry-2.8.0 azure-mgmt-keyvault-2.2.0 azure-mgmt-resource-8.0.1 azure-mgmt-storage-9.0.0 azureml-automl-core-1.2.0 azureml-core-1.2.0.post1 azureml-dataprep-1.3.5 azureml-dataprep-native-14.1.0 azureml-pipeline-1.2.0 azureml-pipeline-core-1.2.0 azureml-pipeline-steps-1.2.0 azureml-sdk-1.2.0 azureml-telemetry-1.2.0 azureml-train-1.2.0 azureml-train-automl-client-1.2.0 azureml-train-core-1.2.0 azureml-train-restclients-hyperdrive-1.2.0 distro-1.5.0 docker-4.2.0 dotnetcore2-2.1.13 fusepy-3.0.1 isodate-0.6.0 jeepney-0.4.3 jmespath-0.9.5 jsonpickle-1.3 msal-1.1.0 msal-extensions-0.1.3 msrest-0.6.11 msrestazure-0.6.3 ndg-httpsclient-0.5.1 oauthlib-3.1.0 portalocker-1.6.0 requests-oauthlib-1.3.0 ruamel.yaml-0.15.89 websocket-client-0.57.0\n"
     ]
    }
   ],
   "source": [
    "!pip install azureml-sdk\n"
   ]
  },
  {
   "cell_type": "markdown",
   "metadata": {},
   "source": [
    "Le SDK comprend des bonus facultatifs qui ne sont pas nécessaires pour les opérations de base. Exemple, \n",
    "- le bonus **notebooks** inclut des widgets pour afficher une sortie détaillée dans les notebooks Jupyter, \n",
    "- le bonus **automl** inclut des packages pour l’entraînement de machine learning automatisé \n",
    "- le bonus **explain** inclut des packages pour la génération d’explications de modèle"
   ]
  },
  {
   "cell_type": "code",
   "execution_count": 2,
   "metadata": {},
   "outputs": [
    {
     "name": "stdout",
     "output_type": "stream",
     "text": [
      "Requirement already satisfied: azureml-sdk[automl,explain,notebooks] in /opt/anaconda3/lib/python3.7/site-packages (1.2.0)\n",
      "Requirement already satisfied: azureml-train~=1.2.0 in /opt/anaconda3/lib/python3.7/site-packages (from azureml-sdk[automl,explain,notebooks]) (1.2.0)\n",
      "Requirement already satisfied: azureml-dataprep[fuse]<1.4.0a,>=1.3.5 in /opt/anaconda3/lib/python3.7/site-packages (from azureml-sdk[automl,explain,notebooks]) (1.3.5)\n",
      "Requirement already satisfied: azureml-core~=1.2.0 in /opt/anaconda3/lib/python3.7/site-packages (from azureml-sdk[automl,explain,notebooks]) (1.2.0.post1)\n",
      "Requirement already satisfied: azureml-pipeline~=1.2.0 in /opt/anaconda3/lib/python3.7/site-packages (from azureml-sdk[automl,explain,notebooks]) (1.2.0)\n",
      "Requirement already satisfied: azureml-train-automl-client~=1.2.0 in /opt/anaconda3/lib/python3.7/site-packages (from azureml-sdk[automl,explain,notebooks]) (1.2.0)\n",
      "Collecting azureml-train-automl~=1.2.0; extra == \"automl\" (from azureml-sdk[automl,explain,notebooks])\n",
      "  Downloading https://files.pythonhosted.org/packages/04/28/5ad9c800fabbaca0a183e6b49363e92091dce36b23511b6158447c9cd6d4/azureml_train_automl-1.2.0-py3-none-any.whl\n",
      "Collecting azureml-explain-model~=1.2.0; extra == \"explain\" (from azureml-sdk[automl,explain,notebooks])\n",
      "  Downloading https://files.pythonhosted.org/packages/76/63/a707a4970c3b715c629ea9186dc5dc7086bf53f066b991eee3da8324cbdd/azureml_explain_model-1.2.0-py3-none-any.whl\n",
      "Collecting azureml-contrib-notebook~=1.2.0; extra == \"notebooks\" (from azureml-sdk[automl,explain,notebooks])\n",
      "  Downloading https://files.pythonhosted.org/packages/5b/66/a27fa9375f5b947be8c7aa7029657b88157c860f4ac344bad91ee73b217d/azureml_contrib_notebook-1.2.0-py3-none-any.whl\n",
      "Collecting azureml-widgets~=1.2.0; extra == \"notebooks\" (from azureml-sdk[automl,explain,notebooks])\n",
      "\u001b[?25l  Downloading https://files.pythonhosted.org/packages/15/c3/18002a106d3404f96c213a44c7a2ec5813e1a20a0d57b1213eb45818e356/azureml_widgets-1.2.0-py3-none-any.whl (14.3MB)\n",
      "\u001b[K     |████████████████████████████████| 14.3MB 2.3MB/s eta 0:00:01\n",
      "\u001b[?25hRequirement already satisfied: azureml-train-core~=1.2.0 in /opt/anaconda3/lib/python3.7/site-packages (from azureml-train~=1.2.0->azureml-sdk[automl,explain,notebooks]) (1.2.0)\n",
      "Requirement already satisfied: azureml-dataprep-native<15.0.0,>=14.1.0 in /opt/anaconda3/lib/python3.7/site-packages (from azureml-dataprep[fuse]<1.4.0a,>=1.3.5->azureml-sdk[automl,explain,notebooks]) (14.1.0)\n",
      "Requirement already satisfied: azure-identity>=1.2.0 in /opt/anaconda3/lib/python3.7/site-packages (from azureml-dataprep[fuse]<1.4.0a,>=1.3.5->azureml-sdk[automl,explain,notebooks]) (1.3.0)\n",
      "Requirement already satisfied: dotnetcore2>=2.1.13 in /opt/anaconda3/lib/python3.7/site-packages (from azureml-dataprep[fuse]<1.4.0a,>=1.3.5->azureml-sdk[automl,explain,notebooks]) (2.1.13)\n",
      "Requirement already satisfied: cloudpickle>=1.1.0 in /opt/anaconda3/lib/python3.7/site-packages (from azureml-dataprep[fuse]<1.4.0a,>=1.3.5->azureml-sdk[automl,explain,notebooks]) (1.2.2)\n",
      "Requirement already satisfied: fusepy>=3.0.1; extra == \"fuse\" in /opt/anaconda3/lib/python3.7/site-packages (from azureml-dataprep[fuse]<1.4.0a,>=1.3.5->azureml-sdk[automl,explain,notebooks]) (3.0.1)\n",
      "Requirement already satisfied: azure-mgmt-containerregistry>=2.0.0 in /opt/anaconda3/lib/python3.7/site-packages (from azureml-core~=1.2.0->azureml-sdk[automl,explain,notebooks]) (2.8.0)\n",
      "Requirement already satisfied: cryptography!=1.9,!=2.0.*,!=2.1.*,!=2.2.* in /opt/anaconda3/lib/python3.7/site-packages (from azureml-core~=1.2.0->azureml-sdk[automl,explain,notebooks]) (2.7)\n",
      "Requirement already satisfied: PyJWT in /opt/anaconda3/lib/python3.7/site-packages (from azureml-core~=1.2.0->azureml-sdk[automl,explain,notebooks]) (1.7.1)\n",
      "Requirement already satisfied: requests>=2.19.1 in /opt/anaconda3/lib/python3.7/site-packages (from azureml-core~=1.2.0->azureml-sdk[automl,explain,notebooks]) (2.22.0)\n",
      "Requirement already satisfied: ndg-httpsclient in /opt/anaconda3/lib/python3.7/site-packages (from azureml-core~=1.2.0->azureml-sdk[automl,explain,notebooks]) (0.5.1)\n",
      "Requirement already satisfied: contextlib2 in /opt/anaconda3/lib/python3.7/site-packages (from azureml-core~=1.2.0->azureml-sdk[automl,explain,notebooks]) (0.6.0)\n",
      "Requirement already satisfied: python-dateutil>=2.7.3 in /opt/anaconda3/lib/python3.7/site-packages (from azureml-core~=1.2.0->azureml-sdk[automl,explain,notebooks]) (2.8.0)\n",
      "Requirement already satisfied: azure-mgmt-authorization>=0.40.0 in /opt/anaconda3/lib/python3.7/site-packages (from azureml-core~=1.2.0->azureml-sdk[automl,explain,notebooks]) (0.60.0)\n",
      "Requirement already satisfied: jsonpickle in /opt/anaconda3/lib/python3.7/site-packages (from azureml-core~=1.2.0->azureml-sdk[automl,explain,notebooks]) (1.3)\n",
      "Requirement already satisfied: azure-mgmt-resource>=1.2.1 in /opt/anaconda3/lib/python3.7/site-packages (from azureml-core~=1.2.0->azureml-sdk[automl,explain,notebooks]) (8.0.1)\n",
      "Requirement already satisfied: pyopenssl in /opt/anaconda3/lib/python3.7/site-packages (from azureml-core~=1.2.0->azureml-sdk[automl,explain,notebooks]) (19.0.0)\n",
      "Requirement already satisfied: urllib3>=1.23 in /opt/anaconda3/lib/python3.7/site-packages (from azureml-core~=1.2.0->azureml-sdk[automl,explain,notebooks]) (1.24.2)\n",
      "Requirement already satisfied: backports.tempfile in /opt/anaconda3/lib/python3.7/site-packages (from azureml-core~=1.2.0->azureml-sdk[automl,explain,notebooks]) (1.0)\n",
      "Requirement already satisfied: ruamel.yaml<=0.15.89,>=0.15.35 in /opt/anaconda3/lib/python3.7/site-packages (from azureml-core~=1.2.0->azureml-sdk[automl,explain,notebooks]) (0.15.89)\n",
      "Requirement already satisfied: azure-mgmt-keyvault>=0.40.0 in /opt/anaconda3/lib/python3.7/site-packages (from azureml-core~=1.2.0->azureml-sdk[automl,explain,notebooks]) (2.2.0)\n",
      "Requirement already satisfied: azure-graphrbac>=0.40.0 in /opt/anaconda3/lib/python3.7/site-packages (from azureml-core~=1.2.0->azureml-sdk[automl,explain,notebooks]) (0.61.1)\n",
      "Requirement already satisfied: pytz in /opt/anaconda3/lib/python3.7/site-packages (from azureml-core~=1.2.0->azureml-sdk[automl,explain,notebooks]) (2019.3)\n",
      "Requirement already satisfied: jmespath in /opt/anaconda3/lib/python3.7/site-packages (from azureml-core~=1.2.0->azureml-sdk[automl,explain,notebooks]) (0.9.5)\n",
      "Requirement already satisfied: azure-common>=1.1.12 in /opt/anaconda3/lib/python3.7/site-packages (from azureml-core~=1.2.0->azureml-sdk[automl,explain,notebooks]) (1.1.25)\n",
      "Requirement already satisfied: azure-mgmt-storage>=1.5.0 in /opt/anaconda3/lib/python3.7/site-packages (from azureml-core~=1.2.0->azureml-sdk[automl,explain,notebooks]) (9.0.0)\n",
      "Requirement already satisfied: msrestazure>=0.4.33 in /opt/anaconda3/lib/python3.7/site-packages (from azureml-core~=1.2.0->azureml-sdk[automl,explain,notebooks]) (0.6.3)\n",
      "Requirement already satisfied: docker in /opt/anaconda3/lib/python3.7/site-packages (from azureml-core~=1.2.0->azureml-sdk[automl,explain,notebooks]) (4.2.0)\n",
      "Requirement already satisfied: pathspec in /opt/anaconda3/lib/python3.7/site-packages (from azureml-core~=1.2.0->azureml-sdk[automl,explain,notebooks]) (0.7.0)\n",
      "Requirement already satisfied: msrest>=0.5.1 in /opt/anaconda3/lib/python3.7/site-packages (from azureml-core~=1.2.0->azureml-sdk[automl,explain,notebooks]) (0.6.11)\n",
      "Requirement already satisfied: adal>=1.2.0 in /opt/anaconda3/lib/python3.7/site-packages (from azureml-core~=1.2.0->azureml-sdk[automl,explain,notebooks]) (1.2.2)\n",
      "Requirement already satisfied: SecretStorage in /opt/anaconda3/lib/python3.7/site-packages (from azureml-core~=1.2.0->azureml-sdk[automl,explain,notebooks]) (3.1.2)\n",
      "Requirement already satisfied: azureml-pipeline-steps~=1.2.0 in /opt/anaconda3/lib/python3.7/site-packages (from azureml-pipeline~=1.2.0->azureml-sdk[automl,explain,notebooks]) (1.2.0)\n",
      "Requirement already satisfied: azureml-pipeline-core~=1.2.0 in /opt/anaconda3/lib/python3.7/site-packages (from azureml-pipeline~=1.2.0->azureml-sdk[automl,explain,notebooks]) (1.2.0)\n",
      "Requirement already satisfied: azureml-telemetry~=1.2.0 in /opt/anaconda3/lib/python3.7/site-packages (from azureml-train-automl-client~=1.2.0->azureml-sdk[automl,explain,notebooks]) (1.2.0)\n",
      "Requirement already satisfied: azureml-automl-core~=1.2.0 in /opt/anaconda3/lib/python3.7/site-packages (from azureml-train-automl-client~=1.2.0->azureml-sdk[automl,explain,notebooks]) (1.2.0)\n"
     ]
    },
    {
     "name": "stdout",
     "output_type": "stream",
     "text": [
      "Collecting azureml-train-automl-runtime~=1.2.0 (from azureml-train-automl~=1.2.0; extra == \"automl\"->azureml-sdk[automl,explain,notebooks])\n",
      "\u001b[?25l  Downloading https://files.pythonhosted.org/packages/7e/31/3c31c8903b30fa694845a0240fb3a5aea34f0bec60766550ff94be8e77c6/azureml_train_automl_runtime-1.2.0-py3-none-any.whl (82kB)\n",
      "\u001b[K     |████████████████████████████████| 92kB 2.6MB/s eta 0:00:01\n",
      "\u001b[?25hCollecting azureml-automl-runtime~=1.2.0 (from azureml-train-automl~=1.2.0; extra == \"automl\"->azureml-sdk[automl,explain,notebooks])\n",
      "\u001b[?25l  Downloading https://files.pythonhosted.org/packages/97/37/974215a2c0b39df84bd36685511b22eb6601dbec05cf294f9542a7d5dca5/azureml_automl_runtime-1.2.0-py3-none-any.whl (1.9MB)\n",
      "\u001b[K     |████████████████████████████████| 1.9MB 2.6MB/s eta 0:00:01\n",
      "\u001b[?25hCollecting azureml-interpret~=1.2.0 (from azureml-explain-model~=1.2.0; extra == \"explain\"->azureml-sdk[automl,explain,notebooks])\n",
      "\u001b[?25l  Downloading https://files.pythonhosted.org/packages/2e/85/2b2fff84a42ca5f79b5f2876f07ca91b49b2eaaa01d17c5b33e81be5e2fe/azureml_interpret-1.2.0-py3-none-any.whl (43kB)\n",
      "\u001b[K     |████████████████████████████████| 51kB 3.9MB/s eta 0:00:01\n",
      "\u001b[?25hRequirement already satisfied: ipykernel in /opt/anaconda3/lib/python3.7/site-packages (from azureml-contrib-notebook~=1.2.0; extra == \"notebooks\"->azureml-sdk[automl,explain,notebooks]) (5.1.2)\n",
      "Requirement already satisfied: ipython in /opt/anaconda3/lib/python3.7/site-packages (from azureml-contrib-notebook~=1.2.0; extra == \"notebooks\"->azureml-sdk[automl,explain,notebooks]) (7.8.0)\n",
      "Collecting papermill<2 (from azureml-contrib-notebook~=1.2.0; extra == \"notebooks\"->azureml-sdk[automl,explain,notebooks])\n",
      "  Downloading https://files.pythonhosted.org/packages/7f/67/338f08d7950c27d6cfe580cf4d1995600e368f584469cffb8d557fe51ab5/papermill-1.2.1-py2.py3-none-any.whl\n",
      "Requirement already satisfied: ipywidgets>=7.0.0 in /opt/anaconda3/lib/python3.7/site-packages (from azureml-widgets~=1.2.0; extra == \"notebooks\"->azureml-sdk[automl,explain,notebooks]) (7.5.1)\n",
      "Requirement already satisfied: azureml-train-restclients-hyperdrive~=1.2.0 in /opt/anaconda3/lib/python3.7/site-packages (from azureml-train-core~=1.2.0->azureml-train~=1.2.0->azureml-sdk[automl,explain,notebooks]) (1.2.0)\n",
      "Requirement already satisfied: flake8<=3.7.9,>=3.1.0; python_version >= \"3.6\" in /opt/anaconda3/lib/python3.7/site-packages (from azureml-train-core~=1.2.0->azureml-train~=1.2.0->azureml-sdk[automl,explain,notebooks]) (3.7.9)\n",
      "Requirement already satisfied: azure-core<2.0.0,>=1.0.0 in /opt/anaconda3/lib/python3.7/site-packages (from azure-identity>=1.2.0->azureml-dataprep[fuse]<1.4.0a,>=1.3.5->azureml-sdk[automl,explain,notebooks]) (1.3.0)\n",
      "Requirement already satisfied: msal-extensions~=0.1.3 in /opt/anaconda3/lib/python3.7/site-packages (from azure-identity>=1.2.0->azureml-dataprep[fuse]<1.4.0a,>=1.3.5->azureml-sdk[automl,explain,notebooks]) (0.1.3)\n",
      "Requirement already satisfied: six>=1.6 in /opt/anaconda3/lib/python3.7/site-packages (from azure-identity>=1.2.0->azureml-dataprep[fuse]<1.4.0a,>=1.3.5->azureml-sdk[automl,explain,notebooks]) (1.12.0)\n",
      "Requirement already satisfied: msal<2.0.0,>=1.0.0 in /opt/anaconda3/lib/python3.7/site-packages (from azure-identity>=1.2.0->azureml-dataprep[fuse]<1.4.0a,>=1.3.5->azureml-sdk[automl,explain,notebooks]) (1.1.0)\n",
      "Requirement already satisfied: distro>=1.2.0 in /opt/anaconda3/lib/python3.7/site-packages (from dotnetcore2>=2.1.13->azureml-dataprep[fuse]<1.4.0a,>=1.3.5->azureml-sdk[automl,explain,notebooks]) (1.5.0)\n",
      "Requirement already satisfied: cffi!=1.11.3,>=1.8 in /opt/anaconda3/lib/python3.7/site-packages (from cryptography!=1.9,!=2.0.*,!=2.1.*,!=2.2.*->azureml-core~=1.2.0->azureml-sdk[automl,explain,notebooks]) (1.12.3)\n",
      "Requirement already satisfied: asn1crypto>=0.21.0 in /opt/anaconda3/lib/python3.7/site-packages (from cryptography!=1.9,!=2.0.*,!=2.1.*,!=2.2.*->azureml-core~=1.2.0->azureml-sdk[automl,explain,notebooks]) (1.0.1)\n",
      "Requirement already satisfied: certifi>=2017.4.17 in /opt/anaconda3/lib/python3.7/site-packages (from requests>=2.19.1->azureml-core~=1.2.0->azureml-sdk[automl,explain,notebooks]) (2019.9.11)\n",
      "Requirement already satisfied: idna<2.9,>=2.5 in /opt/anaconda3/lib/python3.7/site-packages (from requests>=2.19.1->azureml-core~=1.2.0->azureml-sdk[automl,explain,notebooks]) (2.8)\n",
      "Requirement already satisfied: chardet<3.1.0,>=3.0.2 in /opt/anaconda3/lib/python3.7/site-packages (from requests>=2.19.1->azureml-core~=1.2.0->azureml-sdk[automl,explain,notebooks]) (3.0.4)\n",
      "Requirement already satisfied: pyasn1>=0.1.1 in /opt/anaconda3/lib/python3.7/site-packages (from ndg-httpsclient->azureml-core~=1.2.0->azureml-sdk[automl,explain,notebooks]) (0.4.8)\n",
      "Requirement already satisfied: backports.weakref in /opt/anaconda3/lib/python3.7/site-packages (from backports.tempfile->azureml-core~=1.2.0->azureml-sdk[automl,explain,notebooks]) (1.0.post1)\n",
      "Requirement already satisfied: websocket-client>=0.32.0 in /opt/anaconda3/lib/python3.7/site-packages (from docker->azureml-core~=1.2.0->azureml-sdk[automl,explain,notebooks]) (0.57.0)\n",
      "Requirement already satisfied: requests-oauthlib>=0.5.0 in /opt/anaconda3/lib/python3.7/site-packages (from msrest>=0.5.1->azureml-core~=1.2.0->azureml-sdk[automl,explain,notebooks]) (1.3.0)\n",
      "Requirement already satisfied: isodate>=0.6.0 in /opt/anaconda3/lib/python3.7/site-packages (from msrest>=0.5.1->azureml-core~=1.2.0->azureml-sdk[automl,explain,notebooks]) (0.6.0)\n",
      "Requirement already satisfied: jeepney>=0.4.2 in /opt/anaconda3/lib/python3.7/site-packages (from SecretStorage->azureml-core~=1.2.0->azureml-sdk[automl,explain,notebooks]) (0.4.3)\n",
      "Requirement already satisfied: applicationinsights in /opt/anaconda3/lib/python3.7/site-packages (from azureml-telemetry~=1.2.0->azureml-train-automl-client~=1.2.0->azureml-sdk[automl,explain,notebooks]) (0.11.9)\n",
      "Collecting numpy<=1.16.2,>=1.16.0 (from azureml-train-automl-runtime~=1.2.0->azureml-train-automl~=1.2.0; extra == \"automl\"->azureml-sdk[automl,explain,notebooks])\n",
      "\u001b[?25l  Downloading https://files.pythonhosted.org/packages/a6/6f/cb20ccd8f0f8581e0e090775c0e3c3e335b037818416e6fa945d924397d2/numpy-1.16.2-cp37-cp37m-macosx_10_6_intel.macosx_10_9_intel.macosx_10_9_x86_64.macosx_10_10_intel.macosx_10_10_x86_64.whl (13.9MB)\n",
      "\u001b[K     |████████████████████████████████| 13.9MB 2.6MB/s eta 0:00:01\n",
      "\u001b[?25hCollecting scikit-learn<=0.20.3,>=0.19.0 (from azureml-train-automl-runtime~=1.2.0->azureml-train-automl~=1.2.0; extra == \"automl\"->azureml-sdk[automl,explain,notebooks])\n",
      "\u001b[?25l  Downloading https://files.pythonhosted.org/packages/bd/1a/5dc99dfa7e7bf2e1f22a07f440b61299148a42d13dee1d5153360313ed67/scikit_learn-0.20.3-cp37-cp37m-macosx_10_6_intel.macosx_10_9_intel.macosx_10_9_x86_64.macosx_10_10_intel.macosx_10_10_x86_64.whl (8.0MB)\n",
      "\u001b[K     |████████████████████████████████| 8.0MB 4.2MB/s eta 0:00:01\n",
      "\u001b[?25hCollecting onnxmltools==1.4.1 (from azureml-train-automl-runtime~=1.2.0->azureml-train-automl~=1.2.0; extra == \"automl\"->azureml-sdk[automl,explain,notebooks])\n",
      "\u001b[?25l  Downloading https://files.pythonhosted.org/packages/78/7f/1d47b82f1e98f742018e4c4c227ec9bd0ae1efdba3a6dfd7d30c45881fb9/onnxmltools-1.4.1-py2.py3-none-any.whl (371kB)\n",
      "\u001b[K     |████████████████████████████████| 378kB 2.1MB/s eta 0:00:01\n",
      "\u001b[?25hCollecting onnxconverter-common<=1.6.0,>=1.4.2 (from azureml-train-automl-runtime~=1.2.0->azureml-train-automl~=1.2.0; extra == \"automl\"->azureml-sdk[automl,explain,notebooks])\n",
      "\u001b[?25l  Downloading https://files.pythonhosted.org/packages/77/3d/6112c19223d1eabbedf1b063567034e1463a11d7c82d1820f26b75d14e3c/onnxconverter_common-1.6.0-py2.py3-none-any.whl (43kB)\n",
      "\u001b[K     |████████████████████████████████| 51kB 2.4MB/s eta 0:00:01\n",
      "\u001b[?25hCollecting wheel==0.30.0 (from azureml-train-automl-runtime~=1.2.0->azureml-train-automl~=1.2.0; extra == \"automl\"->azureml-sdk[automl,explain,notebooks])\n",
      "\u001b[?25l  Downloading https://files.pythonhosted.org/packages/0c/80/16a85b47702a1f47a63c104c91abdd0a6704ee8ae3b4ce4afc49bc39f9d9/wheel-0.30.0-py2.py3-none-any.whl (49kB)\n",
      "\u001b[K     |████████████████████████████████| 51kB 2.0MB/s eta 0:00:01\n",
      "\u001b[?25hCollecting lightgbm<=2.3.0,>=2.0.11 (from azureml-train-automl-runtime~=1.2.0->azureml-train-automl~=1.2.0; extra == \"automl\"->azureml-sdk[automl,explain,notebooks])\n"
     ]
    },
    {
     "name": "stdout",
     "output_type": "stream",
     "text": [
      "\u001b[?25l  Downloading https://files.pythonhosted.org/packages/a4/83/6e4a9cc870c117bf8316e8aa2513c5070f9ae2f8bd69469476414cd42595/lightgbm-2.3.0-py2.py3-none-macosx_10_8_x86_64.macosx_10_9_x86_64.macosx_10_10_x86_64.macosx_10_11_x86_64.macosx_10_12_x86_64.macosx_10_13_x86_64.macosx_10_14_x86_64.whl (678kB)\n",
      "\u001b[K     |████████████████████████████████| 686kB 2.3MB/s eta 0:00:01\n",
      "\u001b[?25hCollecting pandas<=0.23.4,>=0.21.0 (from azureml-train-automl-runtime~=1.2.0->azureml-train-automl~=1.2.0; extra == \"automl\"->azureml-sdk[automl,explain,notebooks])\n",
      "\u001b[?25l  Downloading https://files.pythonhosted.org/packages/6b/dc/3a88b7bf8437f3f052fc90de72f28c06248142821a7f108e10ff3be5eb59/pandas-0.23.4-cp37-cp37m-macosx_10_6_intel.macosx_10_9_intel.macosx_10_9_x86_64.macosx_10_10_intel.macosx_10_10_x86_64.whl (14.4MB)\n",
      "\u001b[K     |████████████████████████████████| 14.4MB 2.5MB/s eta 0:00:01    |███████████████████             | 8.6MB 2.6MB/s eta 0:00:03\n",
      "\u001b[?25hCollecting gensim (from azureml-train-automl-runtime~=1.2.0->azureml-train-automl~=1.2.0; extra == \"automl\"->azureml-sdk[automl,explain,notebooks])\n",
      "\u001b[?25l  Downloading https://files.pythonhosted.org/packages/b3/54/1d7294672110d5c0565cabc4b99ed952ced9a2dc2ca1d59ad1b34303a6de/gensim-3.8.1-cp37-cp37m-macosx_10_6_intel.macosx_10_9_intel.macosx_10_9_x86_64.macosx_10_10_intel.macosx_10_10_x86_64.whl (24.7MB)\n",
      "\u001b[K     |████████████████████████████████| 24.7MB 2.3MB/s eta 0:00:01     |█████████████████████           | 16.3MB 3.4MB/s eta 0:00:03\n",
      "\u001b[?25hCollecting azureml-defaults~=1.2.0 (from azureml-train-automl-runtime~=1.2.0->azureml-train-automl~=1.2.0; extra == \"automl\"->azureml-sdk[automl,explain,notebooks])\n",
      "  Downloading https://files.pythonhosted.org/packages/3a/d6/603e03737b1af2b38bdf75abb003e0fe7bdbe5cb0c92443090f797df260e/azureml_defaults-1.2.0-py3-none-any.whl\n",
      "Collecting dill>=0.2.8 (from azureml-train-automl-runtime~=1.2.0->azureml-train-automl~=1.2.0; extra == \"automl\"->azureml-sdk[automl,explain,notebooks])\n",
      "\u001b[?25l  Downloading https://files.pythonhosted.org/packages/c7/11/345f3173809cea7f1a193bfbf02403fff250a3360e0e118a1630985e547d/dill-0.3.1.1.tar.gz (151kB)\n",
      "\u001b[K     |████████████████████████████████| 153kB 2.0MB/s eta 0:00:01\n",
      "\u001b[?25hCollecting scipy<=1.1.0,>=1.0.0 (from azureml-train-automl-runtime~=1.2.0->azureml-train-automl~=1.2.0; extra == \"automl\"->azureml-sdk[automl,explain,notebooks])\n",
      "\u001b[?25l  Downloading https://files.pythonhosted.org/packages/4c/4a/440cc9703938bbc86636ff6b9e17810f3d0f06e9b41891c5433dc4cd9091/scipy-1.1.0-cp37-cp37m-macosx_10_6_intel.macosx_10_9_intel.macosx_10_9_x86_64.macosx_10_10_intel.macosx_10_10_x86_64.whl (16.7MB)\n",
      "\u001b[K     |████████████████████████████████| 16.7MB 2.4MB/s eta 0:00:01\n",
      "\u001b[?25hCollecting sklearn-pandas<=1.7.0,>=1.4.0 (from azureml-train-automl-runtime~=1.2.0->azureml-train-automl~=1.2.0; extra == \"automl\"->azureml-sdk[automl,explain,notebooks])\n",
      "  Downloading https://files.pythonhosted.org/packages/7e/9c/c94f46b40b86d2c77c46c4c1b858fc66c117b4390665eca28f2e0812db45/sklearn_pandas-1.7.0-py2.py3-none-any.whl\n",
      "Collecting skl2onnx==1.4.9 (from azureml-train-automl-runtime~=1.2.0->azureml-train-automl~=1.2.0; extra == \"automl\"->azureml-sdk[automl,explain,notebooks])\n",
      "\u001b[?25l  Downloading https://files.pythonhosted.org/packages/40/4d/630598ba5cbf7b6522158c236b9e74930f14bbc9324b61ddc40f252bab40/skl2onnx-1.4.9-py2.py3-none-any.whl (114kB)\n",
      "\u001b[K     |████████████████████████████████| 122kB 2.0MB/s eta 0:00:01\n",
      "\u001b[?25hRequirement already satisfied: statsmodels<=0.10.2,>=0.9.0 in /opt/anaconda3/lib/python3.7/site-packages (from azureml-train-automl-runtime~=1.2.0->azureml-train-automl~=1.2.0; extra == \"automl\"->azureml-sdk[automl,explain,notebooks]) (0.10.1)\n",
      "Collecting onnx>=1.5.0 (from azureml-train-automl-runtime~=1.2.0->azureml-train-automl~=1.2.0; extra == \"automl\"->azureml-sdk[automl,explain,notebooks])\n",
      "\u001b[?25l  Downloading https://files.pythonhosted.org/packages/e3/ed/56a6c94cbe98e7b6ad783ed5ce63c174eab6a862a56111a04156effda135/onnx-1.6.0-cp37-cp37m-macosx_10_6_intel.macosx_10_9_intel.macosx_10_9_x86_64.macosx_10_10_intel.macosx_10_10_x86_64.whl (5.8MB)\n",
      "\u001b[K     |████████████████████████████████| 5.8MB 2.9MB/s eta 0:00:01\n",
      "\u001b[?25hCollecting resource>=0.1.8 (from azureml-train-automl-runtime~=1.2.0->azureml-train-automl~=1.2.0; extra == \"automl\"->azureml-sdk[automl,explain,notebooks])\n",
      "  Downloading https://files.pythonhosted.org/packages/34/ad/9cd037c01c075f9a273c23557f8e71195d773d59d3881bbb26011d396c8b/Resource-0.2.1-py2.py3-none-any.whl\n",
      "Requirement already satisfied: patsy>=0.5.1 in /opt/anaconda3/lib/python3.7/site-packages (from azureml-train-automl-runtime~=1.2.0->azureml-train-automl~=1.2.0; extra == \"automl\"->azureml-sdk[automl,explain,notebooks]) (0.5.1)\n",
      "Collecting pmdarima==1.1.1 (from azureml-automl-runtime~=1.2.0->azureml-train-automl~=1.2.0; extra == \"automl\"->azureml-sdk[automl,explain,notebooks])\n",
      "\u001b[?25l  Downloading https://files.pythonhosted.org/packages/a2/17/44b66be60e7ed34af6c2308926460f1d4f475081d052e76c2bff6b31d8c7/pmdarima-1.1.1-cp37-cp37m-macosx_10_7_x86_64.whl (225kB)\n",
      "\u001b[K     |████████████████████████████████| 235kB 2.0MB/s eta 0:00:01\n",
      "\u001b[?25hCollecting py-cpuinfo (from azureml-automl-runtime~=1.2.0->azureml-train-automl~=1.2.0; extra == \"automl\"->azureml-sdk[automl,explain,notebooks])\n",
      "\u001b[?25l  Downloading https://files.pythonhosted.org/packages/42/60/63f28a5401da733043abe7053e7d9591491b4784c4f87c339bf51215aa0a/py-cpuinfo-5.0.0.tar.gz (82kB)\n",
      "\u001b[K     |████████████████████████████████| 92kB 3.0MB/s eta 0:00:01\n",
      "\u001b[?25hRequirement already satisfied: psutil<6.0.0,>=5.2.2 in /opt/anaconda3/lib/python3.7/site-packages (from azureml-automl-runtime~=1.2.0->azureml-train-automl~=1.2.0; extra == \"automl\"->azureml-sdk[automl,explain,notebooks]) (5.6.3)\n",
      "Collecting nimbusml>=1.5.0 (from azureml-automl-runtime~=1.2.0->azureml-train-automl~=1.2.0; extra == \"automl\"->azureml-sdk[automl,explain,notebooks])\n",
      "\u001b[?25l  Downloading https://files.pythonhosted.org/packages/8f/5b/4faab7c5b14ea19a29f1b4aedea6eb47a6fa99b7ba048e1037b378b44783/nimbusml-1.7.0-cp37-none-macosx_10_11_x86_64.whl (81.9MB)\n",
      "\u001b[K     |████████████████████████████████| 81.9MB 294kB/s eta 0:00:01     |███████████████████▌            | 49.9MB 2.2MB/s eta 0:00:15     |███████████████████▉            | 50.8MB 2.2MB/s eta 0:00:14\n",
      "\u001b[?25hCollecting interpret-community==0.7.* (from azureml-interpret~=1.2.0->azureml-explain-model~=1.2.0; extra == \"explain\"->azureml-sdk[automl,explain,notebooks])\n",
      "\u001b[?25l  Downloading https://files.pythonhosted.org/packages/37/fd/16e8678823c108c5a8ed222a15ef70677bd2967fce1a52d3f86feda3aadc/interpret_community-0.7.0-py3-none-any.whl (5.4MB)\n",
      "\u001b[K     |████████████████████████████████| 5.4MB 2.0MB/s eta 0:00:011\n",
      "\u001b[?25hRequirement already satisfied: traitlets>=4.1.0 in /opt/anaconda3/lib/python3.7/site-packages (from ipykernel->azureml-contrib-notebook~=1.2.0; extra == \"notebooks\"->azureml-sdk[automl,explain,notebooks]) (4.3.3)\n",
      "Requirement already satisfied: tornado>=4.2 in /opt/anaconda3/lib/python3.7/site-packages (from ipykernel->azureml-contrib-notebook~=1.2.0; extra == \"notebooks\"->azureml-sdk[automl,explain,notebooks]) (6.0.3)\n",
      "Requirement already satisfied: jupyter-client in /opt/anaconda3/lib/python3.7/site-packages (from ipykernel->azureml-contrib-notebook~=1.2.0; extra == \"notebooks\"->azureml-sdk[automl,explain,notebooks]) (5.3.3)\n",
      "Requirement already satisfied: backcall in /opt/anaconda3/lib/python3.7/site-packages (from ipython->azureml-contrib-notebook~=1.2.0; extra == \"notebooks\"->azureml-sdk[automl,explain,notebooks]) (0.1.0)\n",
      "Requirement already satisfied: jedi>=0.10 in /opt/anaconda3/lib/python3.7/site-packages (from ipython->azureml-contrib-notebook~=1.2.0; extra == \"notebooks\"->azureml-sdk[automl,explain,notebooks]) (0.15.1)\n",
      "Requirement already satisfied: appnope; sys_platform == \"darwin\" in /opt/anaconda3/lib/python3.7/site-packages (from ipython->azureml-contrib-notebook~=1.2.0; extra == \"notebooks\"->azureml-sdk[automl,explain,notebooks]) (0.1.0)\n",
      "Requirement already satisfied: pexpect; sys_platform != \"win32\" in /opt/anaconda3/lib/python3.7/site-packages (from ipython->azureml-contrib-notebook~=1.2.0; extra == \"notebooks\"->azureml-sdk[automl,explain,notebooks]) (4.7.0)\n",
      "Requirement already satisfied: pygments in /opt/anaconda3/lib/python3.7/site-packages (from ipython->azureml-contrib-notebook~=1.2.0; extra == \"notebooks\"->azureml-sdk[automl,explain,notebooks]) (2.4.2)\n",
      "Requirement already satisfied: decorator in /opt/anaconda3/lib/python3.7/site-packages (from ipython->azureml-contrib-notebook~=1.2.0; extra == \"notebooks\"->azureml-sdk[automl,explain,notebooks]) (4.4.0)\n",
      "Requirement already satisfied: pickleshare in /opt/anaconda3/lib/python3.7/site-packages (from ipython->azureml-contrib-notebook~=1.2.0; extra == \"notebooks\"->azureml-sdk[automl,explain,notebooks]) (0.7.5)\n"
     ]
    },
    {
     "name": "stdout",
     "output_type": "stream",
     "text": [
      "Requirement already satisfied: setuptools>=18.5 in /opt/anaconda3/lib/python3.7/site-packages (from ipython->azureml-contrib-notebook~=1.2.0; extra == \"notebooks\"->azureml-sdk[automl,explain,notebooks]) (41.4.0)\n",
      "Requirement already satisfied: prompt-toolkit<2.1.0,>=2.0.0 in /opt/anaconda3/lib/python3.7/site-packages (from ipython->azureml-contrib-notebook~=1.2.0; extra == \"notebooks\"->azureml-sdk[automl,explain,notebooks]) (2.0.10)\n",
      "Collecting tenacity (from papermill<2->azureml-contrib-notebook~=1.2.0; extra == \"notebooks\"->azureml-sdk[automl,explain,notebooks])\n",
      "  Downloading https://files.pythonhosted.org/packages/9a/30/4d1205370f249f6e3ff0d29f8eb3aebfb7f88bf925364a222c6abcbc383e/tenacity-6.1.0-py2.py3-none-any.whl\n",
      "Collecting ansiwrap (from papermill<2->azureml-contrib-notebook~=1.2.0; extra == \"notebooks\"->azureml-sdk[automl,explain,notebooks])\n",
      "  Downloading https://files.pythonhosted.org/packages/03/50/43e775a63e0d632d9be3b3fa1c9b2cbaf3b7870d203655710a3426f47c26/ansiwrap-0.8.4-py2.py3-none-any.whl\n",
      "Requirement already satisfied: nbconvert>=5.5 in /opt/anaconda3/lib/python3.7/site-packages (from papermill<2->azureml-contrib-notebook~=1.2.0; extra == \"notebooks\"->azureml-sdk[automl,explain,notebooks]) (5.6.0)\n",
      "Requirement already satisfied: nbformat in /opt/anaconda3/lib/python3.7/site-packages (from papermill<2->azureml-contrib-notebook~=1.2.0; extra == \"notebooks\"->azureml-sdk[automl,explain,notebooks]) (4.4.0)\n",
      "Requirement already satisfied: future in /opt/anaconda3/lib/python3.7/site-packages (from papermill<2->azureml-contrib-notebook~=1.2.0; extra == \"notebooks\"->azureml-sdk[automl,explain,notebooks]) (0.17.1)\n",
      "Requirement already satisfied: tqdm>=4.32.2 in /opt/anaconda3/lib/python3.7/site-packages (from papermill<2->azureml-contrib-notebook~=1.2.0; extra == \"notebooks\"->azureml-sdk[automl,explain,notebooks]) (4.36.1)\n",
      "Requirement already satisfied: entrypoints in /opt/anaconda3/lib/python3.7/site-packages (from papermill<2->azureml-contrib-notebook~=1.2.0; extra == \"notebooks\"->azureml-sdk[automl,explain,notebooks]) (0.3)\n",
      "Requirement already satisfied: pyyaml in /opt/anaconda3/lib/python3.7/site-packages (from papermill<2->azureml-contrib-notebook~=1.2.0; extra == \"notebooks\"->azureml-sdk[automl,explain,notebooks]) (5.1.2)\n",
      "Requirement already satisfied: click in /opt/anaconda3/lib/python3.7/site-packages (from papermill<2->azureml-contrib-notebook~=1.2.0; extra == \"notebooks\"->azureml-sdk[automl,explain,notebooks]) (7.0)\n",
      "Requirement already satisfied: widgetsnbextension~=3.5.0 in /opt/anaconda3/lib/python3.7/site-packages (from ipywidgets>=7.0.0->azureml-widgets~=1.2.0; extra == \"notebooks\"->azureml-sdk[automl,explain,notebooks]) (3.5.1)\n",
      "Requirement already satisfied: pycodestyle<2.6.0,>=2.5.0 in /opt/anaconda3/lib/python3.7/site-packages (from flake8<=3.7.9,>=3.1.0; python_version >= \"3.6\"->azureml-train-core~=1.2.0->azureml-train~=1.2.0->azureml-sdk[automl,explain,notebooks]) (2.5.0)\n",
      "Requirement already satisfied: mccabe<0.7.0,>=0.6.0 in /opt/anaconda3/lib/python3.7/site-packages (from flake8<=3.7.9,>=3.1.0; python_version >= \"3.6\"->azureml-train-core~=1.2.0->azureml-train~=1.2.0->azureml-sdk[automl,explain,notebooks]) (0.6.1)\n",
      "Requirement already satisfied: pyflakes<2.2.0,>=2.1.0 in /opt/anaconda3/lib/python3.7/site-packages (from flake8<=3.7.9,>=3.1.0; python_version >= \"3.6\"->azureml-train-core~=1.2.0->azureml-train~=1.2.0->azureml-sdk[automl,explain,notebooks]) (2.1.1)\n",
      "Requirement already satisfied: portalocker~=1.0 in /opt/anaconda3/lib/python3.7/site-packages (from msal-extensions~=0.1.3->azure-identity>=1.2.0->azureml-dataprep[fuse]<1.4.0a,>=1.3.5->azureml-sdk[automl,explain,notebooks]) (1.6.0)\n",
      "Requirement already satisfied: pycparser in /opt/anaconda3/lib/python3.7/site-packages (from cffi!=1.11.3,>=1.8->cryptography!=1.9,!=2.0.*,!=2.1.*,!=2.2.*->azureml-core~=1.2.0->azureml-sdk[automl,explain,notebooks]) (2.19)\n",
      "Requirement already satisfied: oauthlib>=3.0.0 in /opt/anaconda3/lib/python3.7/site-packages (from requests-oauthlib>=0.5.0->msrest>=0.5.1->azureml-core~=1.2.0->azureml-sdk[automl,explain,notebooks]) (3.1.0)\n",
      "Collecting protobuf (from onnxmltools==1.4.1->azureml-train-automl-runtime~=1.2.0->azureml-train-automl~=1.2.0; extra == \"automl\"->azureml-sdk[automl,explain,notebooks])\n",
      "  Using cached https://files.pythonhosted.org/packages/4c/25/c057a298635d08d087a20f51ff4287d821814208ebb045d84ea65535b3e3/protobuf-3.11.3-cp37-cp37m-macosx_10_9_x86_64.whl\n",
      "Collecting keras2onnx (from onnxmltools==1.4.1->azureml-train-automl-runtime~=1.2.0->azureml-train-automl~=1.2.0; extra == \"automl\"->azureml-sdk[automl,explain,notebooks])\n",
      "\u001b[?25l  Downloading https://files.pythonhosted.org/packages/60/df/38475abd5ef1e0c5a19f021add159e8a07d10525b2c01f13bf06371aedd4/keras2onnx-1.6.0-py3-none-any.whl (219kB)\n",
      "\u001b[K     |████████████████████████████████| 225kB 2.2MB/s eta 0:00:01\n",
      "\u001b[?25hCollecting smart-open>=1.8.1 (from gensim->azureml-train-automl-runtime~=1.2.0->azureml-train-automl~=1.2.0; extra == \"automl\"->azureml-sdk[automl,explain,notebooks])\n",
      "\u001b[?25l  Downloading https://files.pythonhosted.org/packages/6e/14/47cf88d290e4681be35f3b6e8889ba26ed809a0ba14336dc8ae46ffcfda8/smart_open-1.10.0.tar.gz (99kB)\n",
      "\u001b[K     |████████████████████████████████| 102kB 2.5MB/s ta 0:00:01\n",
      "\u001b[?25hCollecting gunicorn==19.9.0 (from azureml-defaults~=1.2.0->azureml-train-automl-runtime~=1.2.0->azureml-train-automl~=1.2.0; extra == \"automl\"->azureml-sdk[automl,explain,notebooks])\n",
      "\u001b[?25l  Downloading https://files.pythonhosted.org/packages/8c/da/b8dd8deb741bff556db53902d4706774c8e1e67265f69528c14c003644e6/gunicorn-19.9.0-py2.py3-none-any.whl (112kB)\n",
      "\u001b[K     |████████████████████████████████| 122kB 3.0MB/s eta 0:00:01\n",
      "\u001b[?25hCollecting flask==1.0.3 (from azureml-defaults~=1.2.0->azureml-train-automl-runtime~=1.2.0->azureml-train-automl~=1.2.0; extra == \"automl\"->azureml-sdk[automl,explain,notebooks])\n",
      "\u001b[?25l  Downloading https://files.pythonhosted.org/packages/9a/74/670ae9737d14114753b8c8fdf2e8bd212a05d3b361ab15b44937dfd40985/Flask-1.0.3-py2.py3-none-any.whl (92kB)\n",
      "\u001b[K     |████████████████████████████████| 92kB 2.5MB/s eta 0:00:01\n",
      "\u001b[?25hCollecting configparser==3.7.4 (from azureml-defaults~=1.2.0->azureml-train-automl-runtime~=1.2.0->azureml-train-automl~=1.2.0; extra == \"automl\"->azureml-sdk[automl,explain,notebooks])\n",
      "  Downloading https://files.pythonhosted.org/packages/ba/05/6c96328e92e625fc31445d24d75a2c92ef9ba34fc5b037fe69693c362a0d/configparser-3.7.4-py2.py3-none-any.whl\n",
      "Collecting azureml-model-management-sdk==1.0.1b6.post1 (from azureml-defaults~=1.2.0->azureml-train-automl-runtime~=1.2.0->azureml-train-automl~=1.2.0; extra == \"automl\"->azureml-sdk[automl,explain,notebooks])\n",
      "\u001b[?25l  Downloading https://files.pythonhosted.org/packages/4e/53/9004a1e7d6d4e796abc4bcc8286bfc2a32739c5fbac3859ca7429a228897/azureml_model_management_sdk-1.0.1b6.post1-py2.py3-none-any.whl (130kB)\n",
      "\u001b[K     |████████████████████████████████| 133kB 2.1MB/s eta 0:00:01\n",
      "\u001b[?25hCollecting werkzeug==0.16.1 (from azureml-defaults~=1.2.0->azureml-train-automl-runtime~=1.2.0->azureml-train-automl~=1.2.0; extra == \"automl\"->azureml-sdk[automl,explain,notebooks])\n",
      "\u001b[?25l  Downloading https://files.pythonhosted.org/packages/c2/e4/a859d2fe516f466642fa5c6054fd9646271f9da26b0cac0d2f37fc858c8f/Werkzeug-0.16.1-py2.py3-none-any.whl (327kB)\n",
      "\u001b[K     |████████████████████████████████| 327kB 1.8MB/s eta 0:00:01\n",
      "\u001b[?25hCollecting json-logging-py==0.2 (from azureml-defaults~=1.2.0->azureml-train-automl-runtime~=1.2.0->azureml-train-automl~=1.2.0; extra == \"automl\"->azureml-sdk[automl,explain,notebooks])\n",
      "  Downloading https://files.pythonhosted.org/packages/e9/e1/46c70eebf216b830867c4896ee678cb7f1b28bb68a2810c7e9a811cecfbc/json-logging-py-0.2.tar.gz\n",
      "Collecting typing-extensions>=3.6.2.1 (from onnx>=1.5.0->azureml-train-automl-runtime~=1.2.0->azureml-train-automl~=1.2.0; extra == \"automl\"->azureml-sdk[automl,explain,notebooks])\n",
      "  Downloading https://files.pythonhosted.org/packages/03/92/705fe8aca27678e01bbdd7738173b8e7df0088a2202c80352f664630d638/typing_extensions-3.7.4.1-py3-none-any.whl\n",
      "Collecting JsonForm>=0.0.2 (from resource>=0.1.8->azureml-train-automl-runtime~=1.2.0->azureml-train-automl~=1.2.0; extra == \"automl\"->azureml-sdk[automl,explain,notebooks])\n"
     ]
    },
    {
     "name": "stdout",
     "output_type": "stream",
     "text": [
      "  Downloading https://files.pythonhosted.org/packages/4f/b7/b9491ba4b709d0616fab15a89f8efe4d3a7924652e1fdd4f15303e9ecdf0/JsonForm-0.0.2.tar.gz\n",
      "Collecting python-easyconfig>=0.1.0 (from resource>=0.1.8->azureml-train-automl-runtime~=1.2.0->azureml-train-automl~=1.2.0; extra == \"automl\"->azureml-sdk[automl,explain,notebooks])\n",
      "  Downloading https://files.pythonhosted.org/packages/b1/86/1138081cca360a02066eedaf301d0f358c35e0e0d67572acf9d6354edca9/Python_EasyConfig-0.1.7-py2.py3-none-any.whl\n",
      "Collecting JsonSir>=0.0.2 (from resource>=0.1.8->azureml-train-automl-runtime~=1.2.0->azureml-train-automl~=1.2.0; extra == \"automl\"->azureml-sdk[automl,explain,notebooks])\n",
      "  Downloading https://files.pythonhosted.org/packages/aa/bf/5c00c1dafaa3ca2c32e7641d9c2c6f9d6d76e127bde00eb600333a60c5bc/JsonSir-0.0.2.tar.gz\n",
      "Requirement already satisfied: Cython>=0.29 in /opt/anaconda3/lib/python3.7/site-packages (from pmdarima==1.1.1->azureml-automl-runtime~=1.2.0->azureml-train-automl~=1.2.0; extra == \"automl\"->azureml-sdk[automl,explain,notebooks]) (0.29.14)\n",
      "Requirement already satisfied: packaging in /opt/anaconda3/lib/python3.7/site-packages (from interpret-community==0.7.*->azureml-interpret~=1.2.0->azureml-explain-model~=1.2.0; extra == \"explain\"->azureml-sdk[automl,explain,notebooks]) (19.2)\n",
      "Collecting interpret-core[required]==0.1.20 (from interpret-community==0.7.*->azureml-interpret~=1.2.0->azureml-explain-model~=1.2.0; extra == \"explain\"->azureml-sdk[automl,explain,notebooks])\n",
      "\u001b[?25l  Downloading https://files.pythonhosted.org/packages/0f/56/19549020194648b0de15c8d12702d7ae93f3b41b6cd5b39fd83466d456d8/interpret_core-0.1.20-py3-none-any.whl (7.9MB)\n",
      "\u001b[K     |████████████████████████████████| 7.9MB 3.3MB/s eta 0:00:01\n",
      "\u001b[?25hCollecting shap<=0.34.0,>=0.20.0 (from interpret-community==0.7.*->azureml-interpret~=1.2.0->azureml-explain-model~=1.2.0; extra == \"explain\"->azureml-sdk[automl,explain,notebooks])\n",
      "\u001b[?25l  Downloading https://files.pythonhosted.org/packages/b8/db/58740847c0df6b346a999e3c375936436f4155354f6b644aa6e203bb40f3/shap-0.34.0.tar.gz (264kB)\n",
      "\u001b[K     |████████████████████████████████| 266kB 3.2MB/s eta 0:00:01\n",
      "\u001b[?25hRequirement already satisfied: ipython-genutils in /opt/anaconda3/lib/python3.7/site-packages (from traitlets>=4.1.0->ipykernel->azureml-contrib-notebook~=1.2.0; extra == \"notebooks\"->azureml-sdk[automl,explain,notebooks]) (0.2.0)\n",
      "Requirement already satisfied: pyzmq>=13 in /opt/anaconda3/lib/python3.7/site-packages (from jupyter-client->ipykernel->azureml-contrib-notebook~=1.2.0; extra == \"notebooks\"->azureml-sdk[automl,explain,notebooks]) (18.1.0)\n",
      "Requirement already satisfied: jupyter-core in /opt/anaconda3/lib/python3.7/site-packages (from jupyter-client->ipykernel->azureml-contrib-notebook~=1.2.0; extra == \"notebooks\"->azureml-sdk[automl,explain,notebooks]) (4.5.0)\n",
      "Requirement already satisfied: parso>=0.5.0 in /opt/anaconda3/lib/python3.7/site-packages (from jedi>=0.10->ipython->azureml-contrib-notebook~=1.2.0; extra == \"notebooks\"->azureml-sdk[automl,explain,notebooks]) (0.5.1)\n",
      "Requirement already satisfied: ptyprocess>=0.5 in /opt/anaconda3/lib/python3.7/site-packages (from pexpect; sys_platform != \"win32\"->ipython->azureml-contrib-notebook~=1.2.0; extra == \"notebooks\"->azureml-sdk[automl,explain,notebooks]) (0.6.0)\n",
      "Requirement already satisfied: wcwidth in /opt/anaconda3/lib/python3.7/site-packages (from prompt-toolkit<2.1.0,>=2.0.0->ipython->azureml-contrib-notebook~=1.2.0; extra == \"notebooks\"->azureml-sdk[automl,explain,notebooks]) (0.1.7)\n",
      "Collecting textwrap3>=0.9.2 (from ansiwrap->papermill<2->azureml-contrib-notebook~=1.2.0; extra == \"notebooks\"->azureml-sdk[automl,explain,notebooks])\n",
      "  Downloading https://files.pythonhosted.org/packages/77/9c/a53e561d496ee5866bbeea4d3a850b3b545ed854f8a21007c1e0d872e94d/textwrap3-0.9.2-py2.py3-none-any.whl\n",
      "Requirement already satisfied: testpath in /opt/anaconda3/lib/python3.7/site-packages (from nbconvert>=5.5->papermill<2->azureml-contrib-notebook~=1.2.0; extra == \"notebooks\"->azureml-sdk[automl,explain,notebooks]) (0.4.2)\n",
      "Requirement already satisfied: mistune<2,>=0.8.1 in /opt/anaconda3/lib/python3.7/site-packages (from nbconvert>=5.5->papermill<2->azureml-contrib-notebook~=1.2.0; extra == \"notebooks\"->azureml-sdk[automl,explain,notebooks]) (0.8.4)\n",
      "Requirement already satisfied: pandocfilters>=1.4.1 in /opt/anaconda3/lib/python3.7/site-packages (from nbconvert>=5.5->papermill<2->azureml-contrib-notebook~=1.2.0; extra == \"notebooks\"->azureml-sdk[automl,explain,notebooks]) (1.4.2)\n",
      "Requirement already satisfied: jinja2>=2.4 in /opt/anaconda3/lib/python3.7/site-packages (from nbconvert>=5.5->papermill<2->azureml-contrib-notebook~=1.2.0; extra == \"notebooks\"->azureml-sdk[automl,explain,notebooks]) (2.10.3)\n",
      "Requirement already satisfied: bleach in /opt/anaconda3/lib/python3.7/site-packages (from nbconvert>=5.5->papermill<2->azureml-contrib-notebook~=1.2.0; extra == \"notebooks\"->azureml-sdk[automl,explain,notebooks]) (3.1.0)\n",
      "Requirement already satisfied: defusedxml in /opt/anaconda3/lib/python3.7/site-packages (from nbconvert>=5.5->papermill<2->azureml-contrib-notebook~=1.2.0; extra == \"notebooks\"->azureml-sdk[automl,explain,notebooks]) (0.6.0)\n",
      "Requirement already satisfied: jsonschema!=2.5.0,>=2.4 in /opt/anaconda3/lib/python3.7/site-packages (from nbformat->papermill<2->azureml-contrib-notebook~=1.2.0; extra == \"notebooks\"->azureml-sdk[automl,explain,notebooks]) (3.0.2)\n",
      "Requirement already satisfied: notebook>=4.4.1 in /opt/anaconda3/lib/python3.7/site-packages (from widgetsnbextension~=3.5.0->ipywidgets>=7.0.0->azureml-widgets~=1.2.0; extra == \"notebooks\"->azureml-sdk[automl,explain,notebooks]) (6.0.1)\n",
      "Collecting fire (from keras2onnx->onnxmltools==1.4.1->azureml-train-automl-runtime~=1.2.0->azureml-train-automl~=1.2.0; extra == \"automl\"->azureml-sdk[automl,explain,notebooks])\n",
      "\u001b[?25l  Downloading https://files.pythonhosted.org/packages/fa/42/6252075cbad90b9efb27b6586827779758c62fd73868a1cd0d23ebb5aac6/fire-0.3.0.tar.gz (81kB)\n",
      "\u001b[K     |████████████████████████████████| 81kB 1.9MB/s eta 0:00:01\n",
      "\u001b[?25hCollecting boto3 (from smart-open>=1.8.1->gensim->azureml-train-automl-runtime~=1.2.0->azureml-train-automl~=1.2.0; extra == \"automl\"->azureml-sdk[automl,explain,notebooks])\n",
      "\u001b[?25l  Downloading https://files.pythonhosted.org/packages/2b/4d/d205e9dee3216f163c484171c9bee410fa446fd27d12dd871ec22067a857/boto3-1.12.32-py2.py3-none-any.whl (128kB)\n",
      "\u001b[K     |████████████████████████████████| 133kB 2.1MB/s eta 0:00:01\n",
      "\u001b[?25hCollecting google-cloud-storage (from smart-open>=1.8.1->gensim->azureml-train-automl-runtime~=1.2.0->azureml-train-automl~=1.2.0; extra == \"automl\"->azureml-sdk[automl,explain,notebooks])\n",
      "  Using cached https://files.pythonhosted.org/packages/88/67/80761781f813ffbf8bc1db7270b6d23de7a96468da4601de3bf2e5e1d829/google_cloud_storage-1.26.0-py2.py3-none-any.whl\n",
      "Requirement already satisfied: itsdangerous>=0.24 in /opt/anaconda3/lib/python3.7/site-packages (from flask==1.0.3->azureml-defaults~=1.2.0->azureml-train-automl-runtime~=1.2.0->azureml-train-automl~=1.2.0; extra == \"automl\"->azureml-sdk[automl,explain,notebooks]) (1.1.0)\n",
      "Collecting liac-arff>=2.1.1 (from azureml-model-management-sdk==1.0.1b6.post1->azureml-defaults~=1.2.0->azureml-train-automl-runtime~=1.2.0->azureml-train-automl~=1.2.0; extra == \"automl\"->azureml-sdk[automl,explain,notebooks])\n",
      "  Downloading https://files.pythonhosted.org/packages/e9/35/fbc9217cfa91d98888b43e1a19c03a50d716108c58494c558c65e308f372/liac-arff-2.4.0.tar.gz\n",
      "Requirement already satisfied: pyparsing>=2.0.2 in /opt/anaconda3/lib/python3.7/site-packages (from packaging->interpret-community==0.7.*->azureml-interpret~=1.2.0->azureml-explain-model~=1.2.0; extra == \"explain\"->azureml-sdk[automl,explain,notebooks]) (2.4.2)\n",
      "Requirement already satisfied: joblib>=0.11; extra == \"required\" in /opt/anaconda3/lib/python3.7/site-packages (from interpret-core[required]==0.1.20->interpret-community==0.7.*->azureml-interpret~=1.2.0->azureml-explain-model~=1.2.0; extra == \"explain\"->azureml-sdk[automl,explain,notebooks]) (0.13.2)\n",
      "Requirement already satisfied: MarkupSafe>=0.23 in /opt/anaconda3/lib/python3.7/site-packages (from jinja2>=2.4->nbconvert>=5.5->papermill<2->azureml-contrib-notebook~=1.2.0; extra == \"notebooks\"->azureml-sdk[automl,explain,notebooks]) (1.1.1)\n"
     ]
    },
    {
     "name": "stdout",
     "output_type": "stream",
     "text": [
      "Requirement already satisfied: webencodings in /opt/anaconda3/lib/python3.7/site-packages (from bleach->nbconvert>=5.5->papermill<2->azureml-contrib-notebook~=1.2.0; extra == \"notebooks\"->azureml-sdk[automl,explain,notebooks]) (0.5.1)\n",
      "Requirement already satisfied: attrs>=17.4.0 in /opt/anaconda3/lib/python3.7/site-packages (from jsonschema!=2.5.0,>=2.4->nbformat->papermill<2->azureml-contrib-notebook~=1.2.0; extra == \"notebooks\"->azureml-sdk[automl,explain,notebooks]) (19.2.0)\n",
      "Requirement already satisfied: pyrsistent>=0.14.0 in /opt/anaconda3/lib/python3.7/site-packages (from jsonschema!=2.5.0,>=2.4->nbformat->papermill<2->azureml-contrib-notebook~=1.2.0; extra == \"notebooks\"->azureml-sdk[automl,explain,notebooks]) (0.15.4)\n",
      "Requirement already satisfied: Send2Trash in /opt/anaconda3/lib/python3.7/site-packages (from notebook>=4.4.1->widgetsnbextension~=3.5.0->ipywidgets>=7.0.0->azureml-widgets~=1.2.0; extra == \"notebooks\"->azureml-sdk[automl,explain,notebooks]) (1.5.0)\n",
      "Requirement already satisfied: terminado>=0.8.1 in /opt/anaconda3/lib/python3.7/site-packages (from notebook>=4.4.1->widgetsnbextension~=3.5.0->ipywidgets>=7.0.0->azureml-widgets~=1.2.0; extra == \"notebooks\"->azureml-sdk[automl,explain,notebooks]) (0.8.2)\n",
      "Requirement already satisfied: prometheus-client in /opt/anaconda3/lib/python3.7/site-packages (from notebook>=4.4.1->widgetsnbextension~=3.5.0->ipywidgets>=7.0.0->azureml-widgets~=1.2.0; extra == \"notebooks\"->azureml-sdk[automl,explain,notebooks]) (0.7.1)\n",
      "Collecting termcolor (from fire->keras2onnx->onnxmltools==1.4.1->azureml-train-automl-runtime~=1.2.0->azureml-train-automl~=1.2.0; extra == \"automl\"->azureml-sdk[automl,explain,notebooks])\n",
      "Collecting s3transfer<0.4.0,>=0.3.0 (from boto3->smart-open>=1.8.1->gensim->azureml-train-automl-runtime~=1.2.0->azureml-train-automl~=1.2.0; extra == \"automl\"->azureml-sdk[automl,explain,notebooks])\n",
      "\u001b[?25l  Downloading https://files.pythonhosted.org/packages/69/79/e6afb3d8b0b4e96cefbdc690f741d7dd24547ff1f94240c997a26fa908d3/s3transfer-0.3.3-py2.py3-none-any.whl (69kB)\n",
      "\u001b[K     |████████████████████████████████| 71kB 2.9MB/s eta 0:00:01\n",
      "\u001b[?25hCollecting botocore<1.16.0,>=1.15.32 (from boto3->smart-open>=1.8.1->gensim->azureml-train-automl-runtime~=1.2.0->azureml-train-automl~=1.2.0; extra == \"automl\"->azureml-sdk[automl,explain,notebooks])\n",
      "\u001b[?25l  Downloading https://files.pythonhosted.org/packages/49/86/6448bb5ab4b0c169f379fce589e568e798907b569eaeb012c720a4dd9ca2/botocore-1.15.32-py2.py3-none-any.whl (6.0MB)\n",
      "\u001b[K     |████████████████████████████████| 6.1MB 39kB/s eta 0:00:013\n",
      "\u001b[?25hCollecting google-cloud-core<2.0dev,>=1.2.0 (from google-cloud-storage->smart-open>=1.8.1->gensim->azureml-train-automl-runtime~=1.2.0->azureml-train-automl~=1.2.0; extra == \"automl\"->azureml-sdk[automl,explain,notebooks])\n",
      "  Using cached https://files.pythonhosted.org/packages/89/3c/8a7531839028c9690e6d14c650521f3bbaf26e53baaeb2784b8c3eb2fb97/google_cloud_core-1.3.0-py2.py3-none-any.whl\n",
      "Collecting google-resumable-media<0.6dev,>=0.5.0 (from google-cloud-storage->smart-open>=1.8.1->gensim->azureml-train-automl-runtime~=1.2.0->azureml-train-automl~=1.2.0; extra == \"automl\"->azureml-sdk[automl,explain,notebooks])\n",
      "  Using cached https://files.pythonhosted.org/packages/35/9e/f73325d0466ce5bdc36333f1aeb2892ead7b76e79bdb5c8b0493961fa098/google_resumable_media-0.5.0-py2.py3-none-any.whl\n",
      "Requirement already satisfied: google-auth<2.0dev,>=1.11.0 in /opt/anaconda3/lib/python3.7/site-packages (from google-cloud-storage->smart-open>=1.8.1->gensim->azureml-train-automl-runtime~=1.2.0->azureml-train-automl~=1.2.0; extra == \"automl\"->azureml-sdk[automl,explain,notebooks]) (1.11.2)\n",
      "Requirement already satisfied: docutils<0.16,>=0.10 in /opt/anaconda3/lib/python3.7/site-packages (from botocore<1.16.0,>=1.15.32->boto3->smart-open>=1.8.1->gensim->azureml-train-automl-runtime~=1.2.0->azureml-train-automl~=1.2.0; extra == \"automl\"->azureml-sdk[automl,explain,notebooks]) (0.15.2)\n",
      "Collecting google-api-core<2.0.0dev,>=1.16.0 (from google-cloud-core<2.0dev,>=1.2.0->google-cloud-storage->smart-open>=1.8.1->gensim->azureml-train-automl-runtime~=1.2.0->azureml-train-automl~=1.2.0; extra == \"automl\"->azureml-sdk[automl,explain,notebooks])\n",
      "  Using cached https://files.pythonhosted.org/packages/63/7e/a523169b0cc9ce62d56e07571db927286a94b1a5f51ac220bd97db825c77/google_api_core-1.16.0-py2.py3-none-any.whl\n",
      "Requirement already satisfied: rsa<4.1,>=3.1.4 in /opt/anaconda3/lib/python3.7/site-packages (from google-auth<2.0dev,>=1.11.0->google-cloud-storage->smart-open>=1.8.1->gensim->azureml-train-automl-runtime~=1.2.0->azureml-train-automl~=1.2.0; extra == \"automl\"->azureml-sdk[automl,explain,notebooks]) (4.0)\n",
      "Requirement already satisfied: pyasn1-modules>=0.2.1 in /opt/anaconda3/lib/python3.7/site-packages (from google-auth<2.0dev,>=1.11.0->google-cloud-storage->smart-open>=1.8.1->gensim->azureml-train-automl-runtime~=1.2.0->azureml-train-automl~=1.2.0; extra == \"automl\"->azureml-sdk[automl,explain,notebooks]) (0.2.8)\n",
      "Requirement already satisfied: cachetools<5.0,>=2.0.0 in /opt/anaconda3/lib/python3.7/site-packages (from google-auth<2.0dev,>=1.11.0->google-cloud-storage->smart-open>=1.8.1->gensim->azureml-train-automl-runtime~=1.2.0->azureml-train-automl~=1.2.0; extra == \"automl\"->azureml-sdk[automl,explain,notebooks]) (4.0.0)\n",
      "Collecting googleapis-common-protos<2.0dev,>=1.6.0 (from google-api-core<2.0.0dev,>=1.16.0->google-cloud-core<2.0dev,>=1.2.0->google-cloud-storage->smart-open>=1.8.1->gensim->azureml-train-automl-runtime~=1.2.0->azureml-train-automl~=1.2.0; extra == \"automl\"->azureml-sdk[automl,explain,notebooks])\n",
      "  Using cached https://files.pythonhosted.org/packages/05/46/168fd780f594a4d61122f7f3dc0561686084319ad73b4febbf02ae8b32cf/googleapis-common-protos-1.51.0.tar.gz\n",
      "Building wheels for collected packages: dill, py-cpuinfo, smart-open, json-logging-py, JsonForm, JsonSir, shap, fire, liac-arff, googleapis-common-protos\n",
      "  Building wheel for dill (setup.py) ... \u001b[?25ldone\n",
      "\u001b[?25h  Created wheel for dill: filename=dill-0.3.1.1-cp37-none-any.whl size=78533 sha256=e656a1a34c02c2124dcd82e0cc650d77f8bfc99887af1dbfb7de9b4722dd6e54\n",
      "  Stored in directory: /Users/louiserodriguez/Library/Caches/pip/wheels/59/b1/91/f02e76c732915c4015ab4010f3015469866c1eb9b14058d8e7\n",
      "  Building wheel for py-cpuinfo (setup.py) ... \u001b[?25ldone\n",
      "\u001b[?25h  Created wheel for py-cpuinfo: filename=py_cpuinfo-5.0.0-cp37-none-any.whl size=18685 sha256=4f7c8d5868422b8a9b040322765ec8fdf2c418674f5ed80712e79289a2fa387e\n",
      "  Stored in directory: /Users/louiserodriguez/Library/Caches/pip/wheels/01/7e/a9/b982d0fea22b7e4ae5619de949570cde5ad55420cec16e86a5\n",
      "  Building wheel for smart-open (setup.py) ... \u001b[?25ldone\n",
      "\u001b[?25h  Created wheel for smart-open: filename=smart_open-1.10.0-cp37-none-any.whl size=90634 sha256=c2b90f84067469450ee0aec16479412aab4c23509595864c098e43cd2a76f556\n",
      "  Stored in directory: /Users/louiserodriguez/Library/Caches/pip/wheels/f8/00/d4/a6b8b6aa241459103d19e757f96645549dd562d5b5de653f44\n",
      "  Building wheel for json-logging-py (setup.py) ... \u001b[?25ldone\n",
      "\u001b[?25h  Created wheel for json-logging-py: filename=json_logging_py-0.2-cp37-none-any.whl size=3924 sha256=a2569dea495d49d4c0bd704b6cd611a5d984a996dbc205446f180c1183d34518\n",
      "  Stored in directory: /Users/louiserodriguez/Library/Caches/pip/wheels/0d/2e/1c/c638b7589610d8b9358a6e5eb008edacb8b3e9b6d1edc9479f\n",
      "  Building wheel for JsonForm (setup.py) ... \u001b[?25ldone\n",
      "\u001b[?25h  Created wheel for JsonForm: filename=JsonForm-0.0.2-cp37-none-any.whl size=3326 sha256=e4eed6f41c45107110819412da28112145a7439e2befcdd4f197e061d3ec7e61\n",
      "  Stored in directory: /Users/louiserodriguez/Library/Caches/pip/wheels/e8/74/51/42c2d41c02bdc6f0e604476b7e4293b8c98d0bcbfa1dff78c8\n",
      "  Building wheel for JsonSir (setup.py) ... \u001b[?25ldone\n",
      "\u001b[?25h  Created wheel for JsonSir: filename=JsonSir-0.0.2-cp37-none-any.whl size=4773 sha256=2d9bc180174816f5cb939e7d4347ab575e5051ede8e2dc920fa677acadeb5134\n",
      "  Stored in directory: /Users/louiserodriguez/Library/Caches/pip/wheels/ee/30/5c/3a3b5e1386c8db9a3be5f5c3933644ae0533c1351c6a8eb4b5\n",
      "  Building wheel for shap (setup.py) ... \u001b[?25ldone\n",
      "\u001b[?25h  Created wheel for shap: filename=shap-0.34.0-cp37-cp37m-macosx_10_9_x86_64.whl size=299962 sha256=14f80a0c4135770e307b1b6921916c2837465e944ebd62bce277efdebc12fc7e\n",
      "  Stored in directory: /Users/louiserodriguez/Library/Caches/pip/wheels/28/7e/28/57bc9fcb77579b0df6561298648249370648c0b91dfe42c8ec\n"
     ]
    },
    {
     "name": "stdout",
     "output_type": "stream",
     "text": [
      "  Building wheel for fire (setup.py) ... \u001b[?25ldone\n",
      "\u001b[?25h  Created wheel for fire: filename=fire-0.3.0-py2.py3-none-any.whl size=111108 sha256=ba3e39651690db8df6fff4586f994326015d96d996a3b225699cac8cee3e8150\n",
      "  Stored in directory: /Users/louiserodriguez/Library/Caches/pip/wheels/92/62/79/6a40acd827ec9d78d610be311820ecf8e41db024d8b1d12ace\n",
      "  Building wheel for liac-arff (setup.py) ... \u001b[?25ldone\n",
      "\u001b[?25h  Created wheel for liac-arff: filename=liac_arff-2.4.0-cp37-none-any.whl size=13335 sha256=bd61760150db99d1f76d4965936b9a9139b51fd63ec19fbca14d8881fb652a15\n",
      "  Stored in directory: /Users/louiserodriguez/Library/Caches/pip/wheels/d1/6a/e7/529dc54d76ecede4346164a09ae3168df358945612710f5203\n",
      "  Building wheel for googleapis-common-protos (setup.py) ... \u001b[?25ldone\n",
      "\u001b[?25h  Created wheel for googleapis-common-protos: filename=googleapis_common_protos-1.51.0-cp37-none-any.whl size=77593 sha256=588f18a6f0b74e9c7cee9374a9954ab686cf30642513255e8a0b39038bbad9a8\n",
      "  Stored in directory: /Users/louiserodriguez/Library/Caches/pip/wheels/2c/f9/7f/6eb87e636072bf467e25348bbeb96849333e6a080dca78f706\n",
      "Successfully built dill py-cpuinfo smart-open json-logging-py JsonForm JsonSir shap fire liac-arff googleapis-common-protos\n",
      "Installing collected packages: numpy, scipy, scikit-learn, pandas, interpret-core, shap, interpret-community, azureml-interpret, azureml-explain-model, protobuf, typing-extensions, onnx, onnxconverter-common, skl2onnx, termcolor, fire, keras2onnx, onnxmltools, wheel, lightgbm, botocore, s3transfer, boto3, googleapis-common-protos, google-api-core, google-cloud-core, google-resumable-media, google-cloud-storage, smart-open, gensim, gunicorn, werkzeug, flask, configparser, dill, liac-arff, azureml-model-management-sdk, json-logging-py, azureml-defaults, sklearn-pandas, pmdarima, py-cpuinfo, JsonForm, python-easyconfig, JsonSir, resource, nimbusml, azureml-automl-runtime, azureml-train-automl-runtime, azureml-train-automl, tenacity, textwrap3, ansiwrap, papermill, azureml-contrib-notebook, azureml-widgets\n",
      "  Found existing installation: numpy 1.17.2\n",
      "    Uninstalling numpy-1.17.2:\n",
      "      Successfully uninstalled numpy-1.17.2\n",
      "  Found existing installation: scipy 1.3.1\n",
      "    Uninstalling scipy-1.3.1:\n",
      "      Successfully uninstalled scipy-1.3.1\n",
      "  Found existing installation: scikit-learn 0.21.3\n",
      "    Uninstalling scikit-learn-0.21.3:\n",
      "      Successfully uninstalled scikit-learn-0.21.3\n",
      "  Found existing installation: pandas 0.25.1\n",
      "    Uninstalling pandas-0.25.1:\n",
      "      Successfully uninstalled pandas-0.25.1\n",
      "  Found existing installation: wheel 0.33.6\n",
      "    Uninstalling wheel-0.33.6:\n",
      "      Successfully uninstalled wheel-0.33.6\n",
      "  Found existing installation: Werkzeug 0.16.0\n",
      "    Uninstalling Werkzeug-0.16.0:\n",
      "      Successfully uninstalled Werkzeug-0.16.0\n",
      "  Found existing installation: Flask 1.1.1\n",
      "    Uninstalling Flask-1.1.1:\n",
      "      Successfully uninstalled Flask-1.1.1\n",
      "Successfully installed JsonForm-0.0.2 JsonSir-0.0.2 ansiwrap-0.8.4 azureml-automl-runtime-1.2.0 azureml-contrib-notebook-1.2.0 azureml-defaults-1.2.0 azureml-explain-model-1.2.0 azureml-interpret-1.2.0 azureml-model-management-sdk-1.0.1b6.post1 azureml-train-automl-1.2.0 azureml-train-automl-runtime-1.2.0 azureml-widgets-1.2.0 boto3-1.12.32 botocore-1.15.32 configparser-3.7.4 dill-0.3.1.1 fire-0.3.0 flask-1.0.3 gensim-3.8.1 google-api-core-1.16.0 google-cloud-core-1.3.0 google-cloud-storage-1.26.0 google-resumable-media-0.5.0 googleapis-common-protos-1.51.0 gunicorn-19.9.0 interpret-community-0.7.0 interpret-core-0.1.20 json-logging-py-0.2 keras2onnx-1.6.0 liac-arff-2.4.0 lightgbm-2.3.0 nimbusml-1.7.0 numpy-1.16.2 onnx-1.6.0 onnxconverter-common-1.6.0 onnxmltools-1.4.1 pandas-0.23.4 papermill-1.2.1 pmdarima-1.1.1 protobuf-3.11.3 py-cpuinfo-5.0.0 python-easyconfig-0.1.7 resource-0.2.1 s3transfer-0.3.3 scikit-learn-0.20.3 scipy-1.1.0 shap-0.34.0 skl2onnx-1.4.9 sklearn-pandas-1.7.0 smart-open-1.10.0 tenacity-6.1.0 termcolor-1.1.0 textwrap3-0.9.2 typing-extensions-3.7.4.1 werkzeug-0.16.1 wheel-0.30.0\n"
     ]
    }
   ],
   "source": [
    "#installation de ces bonus \n",
    "!pip install azureml-sdk[notebooks,automl,explain]\n"
   ]
  },
  {
   "cell_type": "markdown",
   "metadata": {},
   "source": [
    "Pour se connecter à un espace de travail --> utilisation d'un fichier de configuration d’espace de travail: fichier json qui comprends les détails de l'abonnement azure du type:\n",
    "\n",
    "{\n",
    "    \"subscription_id\": \"1234567-abcde-890-fgh...\",\n",
    "    \"resource_group\": \"aml-resources\",\n",
    "    \"workspace_name\": \"aml-workspace\"\n",
    "}\n",
    "\n",
    "par exemple nous on a fait\n",
    "\n",
    "{\n",
    "    \"subscription_id\": \"6f1ad109-aa25-4669-a078-5ccf43db778e\",\n",
    "    \"resource_group\": \"aml-ressourcesgroup\",\n",
    "    \"workspace_name\": \"aml-workspace\"\n",
    "}"
   ]
  },
  {
   "cell_type": "code",
   "execution_count": 3,
   "metadata": {},
   "outputs": [
    {
     "name": "stderr",
     "output_type": "stream",
     "text": [
      "WARNING - Note, we have launched a browser for you to login. For old experience with device code, use \"az login --use-device-code\"\n"
     ]
    },
    {
     "name": "stdout",
     "output_type": "stream",
     "text": [
      "Performing interactive authentication. Please follow the instructions on the terminal.\n"
     ]
    },
    {
     "name": "stderr",
     "output_type": "stream",
     "text": [
      "WARNING - You have logged in. Now let us find all the subscriptions to which you have access...\n"
     ]
    },
    {
     "name": "stdout",
     "output_type": "stream",
     "text": [
      "Interactive authentication successfully completed.\n"
     ]
    }
   ],
   "source": [
    "from azureml.core import Workspace\n",
    "\n",
    "ws = Workspace.from_config(\"/Users/louiserodriguez/Downloads/config.json\")"
   ]
  },
  {
   "cell_type": "markdown",
   "metadata": {},
   "source": [
    "Par défaut, la méthode from_config recherche un fichier nommé **config.json** dans le dossier qui contient le fichier de code Python, mais vous pouvez spécifier un autre chemin si nécessaire."
   ]
  },
  {
   "cell_type": "markdown",
   "metadata": {},
   "source": [
    "Et sinon, autre alternative:"
   ]
  },
  {
   "cell_type": "code",
   "execution_count": null,
   "metadata": {},
   "outputs": [],
   "source": [
    "from azureml.core import Workspace\n",
    "\n",
    "ws = Workspace.get(name='aml-workspace',\n",
    "                   subscription_id='1234567-abcde-890-fgh...',\n",
    "                   resource_group='aml-resources')"
   ]
  },
  {
   "cell_type": "code",
   "execution_count": null,
   "metadata": {},
   "outputs": [],
   "source": [
    "Rmq: authentification nécessaire quelque soit la technique"
   ]
  },
  {
   "cell_type": "code",
   "execution_count": null,
   "metadata": {},
   "outputs": [],
   "source": []
  },
  {
   "cell_type": "markdown",
   "metadata": {},
   "source": [
    "### Les Experiences chez Azure ML"
   ]
  },
  {
   "cell_type": "markdown",
   "metadata": {},
   "source": [
    "Une experience : c'est un processus nommé, cela peut être l'execution d'un script ou pipeline qui peut généer des métriues et sorties et d'aire objet d'un suivit dans l'espace de travail\n",
    "\n",
    "Peut être executé plusieurs fois avec des données, script et paramètres différents. "
   ]
  },
  {
   "cell_type": "code",
   "execution_count": null,
   "metadata": {},
   "outputs": [],
   "source": [
    "from azureml.core import Experiment\n",
    "\n",
    "# create an experiment variable\n",
    "experiment = Experiment(workspace = ws, name = \"my-experiment\")\n",
    "\n",
    "# start the experiment\n",
    "run = experiment.start_logging()\n",
    "\n",
    "# experiment code goes here\n",
    "\n",
    "# end the experiment\n",
    "run.complete()"
   ]
  },
  {
   "cell_type": "markdown",
   "metadata": {},
   "source": [
    "Une fois l’exécution de l’expérience terminée, vous pouvez voir ses détails sous l’onglet Expériences dans Azure Machine Learning Studio."
   ]
  },
  {
   "cell_type": "markdown",
   "metadata": {},
   "source": [
    "##### Journalisation de métrique et création de sorties"
   ]
  },
  {
   "cell_type": "markdown",
   "metadata": {},
   "source": [
    "Experiences génèrent des fichiers journaux:\n",
    "- possibilité d'ajout de print pour écrire message dans journal\n",
    "- possibilité d'utiliser l'objet Run et ses fonctions  pour enregistrer 1 valeure nommées, une list une ligne avec plusieurs colonnes, 1 dictionnaire, 1 fichier image\n",
    "\n"
   ]
  },
  {
   "cell_type": "markdown",
   "metadata": {},
   "source": [
    "Exemple, le code suivant enregistre le nombre d’observations (enregistrements) dans un fichier CSV"
   ]
  },
  {
   "cell_type": "code",
   "execution_count": null,
   "metadata": {},
   "outputs": [],
   "source": [
    "from azureml.core import Experiment\n",
    "import pandas as pd\n",
    "\n",
    "# Create an Azure ML experiment in your workspace\n",
    "experiment = Experiment(workspace = ws, name = 'my-experiment')\n",
    "\n",
    "# Start logging data from the experiment\n",
    "run = experiment.start_logging()\n",
    "\n",
    "# load the dataset and count the rows\n",
    "data = pd.read_csv('data.csv')\n",
    "row_count = (len(data))\n",
    "\n",
    "# Log the row count: run.log enregistre 1 ligne avec plusieurs colonnes\n",
    "run.log('observations', row_count)\n",
    "\n",
    "# Complete the experiment\n",
    "run.complete()"
   ]
  },
  {
   "cell_type": "markdown",
   "metadata": {},
   "source": [
    "##### Recupération et affichage des métriques journalisées "
   ]
  },
  {
   "cell_type": "code",
   "execution_count": null,
   "metadata": {},
   "outputs": [],
   "source": [
    "from azureml.widgets import RunDetails\n",
    "\n",
    "RunDetails(run).show()\n",
    "\n",
    "#run étant l'experience créée précedemment "
   ]
  },
  {
   "cell_type": "code",
   "execution_count": null,
   "metadata": {},
   "outputs": [],
   "source": [
    "#obtnenir le résultat au format json en sortie du type\n",
    "'''\n",
    "{\n",
    "  \"observations\": 15000\n",
    "}\n",
    "'''\n",
    "import json\n",
    "\n",
    "# Get logged metrics\n",
    "metrics = run.get_metrics()\n",
    "print(json.dumps(metrics, indent=2))"
   ]
  },
  {
   "cell_type": "markdown",
   "metadata": {},
   "source": [
    "##### Fichiers de sortie d’une expérience\n"
   ]
  },
  {
   "cell_type": "markdown",
   "metadata": {},
   "source": [
    "Charger des fichiers locaux dans le dossier output de l’exécution à l’aide de la méthode upload_file de l’objet Run "
   ]
  },
  {
   "cell_type": "code",
   "execution_count": null,
   "metadata": {},
   "outputs": [],
   "source": [
    "run.upload_file(name='outputs/sample.csv', path_or_stream='./sample.csv')"
   ]
  },
  {
   "cell_type": "markdown",
   "metadata": {},
   "source": [
    "Tous les fichiers écrits dans le dossier de sorties dans le contexte de calcul sont automatiquement chargés sur le dossier de sorties.\n",
    "\n",
    "Récupérer une liste de fichiers de sortie à partir de l’objet Run "
   ]
  },
  {
   "cell_type": "code",
   "execution_count": null,
   "metadata": {},
   "outputs": [],
   "source": [
    "import json\n",
    "\n",
    "files = run.get_file_names()\n",
    "print(json.dumps(files, indent=2))"
   ]
  },
  {
   "cell_type": "markdown",
   "metadata": {},
   "source": [
    "### Execution d'un script en tant qu'experience"
   ]
  },
  {
   "cell_type": "markdown",
   "metadata": {},
   "source": [
    "pouvez exécuter une expérience inline à l’aide de la méthode **start_logging** de l’objet Experiment, mais il est plus courant d’encapsuler la logique d’expérience dans un script et d’exécuter le script en tant qu’expérience."
   ]
  },
  {
   "cell_type": "markdown",
   "metadata": {},
   "source": [
    "Un script d’expérience = un fichier de code Python qui contient le code que vous souhaitez exécuter dans l’expérience\n",
    "\n",
    "\n",
    "Pour accéder au contexte d’exécution de l’expérience (qui est nécessaire pour journaliser les métriques), le script doit importer la classe **azureml.core.Run** et appeler sa méthode **get_context**. Le script peut ensuite utiliser le contexte d’exécution pour journaliser les métriques, charger des fichiers et effectuer l’expérience"
   ]
  },
  {
   "cell_type": "code",
   "execution_count": null,
   "metadata": {},
   "outputs": [],
   "source": [
    "from azureml.core import Run\n",
    "import pandas as pd\n",
    "import matplotlib.pyplot as plt\n",
    "import os\n",
    "\n",
    "# Get the experiment run context\n",
    "run = Run.get_context()\n",
    "\n",
    "# load the diabetes dataset\n",
    "data = pd.read_csv('data.csv')\n",
    "\n",
    "# Count the rows and log the result\n",
    "row_count = (len(data))\n",
    "run.log('observations', row_count)\n",
    "\n",
    "# Save a sample of the data\n",
    "os.makedirs('outputs', exist_ok=True)\n",
    "data.sample(100).to_csv(\"outputs/sample.csv\", index=False, header=True)\n",
    "\n",
    "# Complete the run\n",
    "run.complete()"
   ]
  },
  {
   "cell_type": "markdown",
   "metadata": {},
   "source": [
    "RunConfiguration () : configuration d’exécution qui définit l’environnement Python pour l’expérience\n",
    "ScriptRunConfig() : configuration d’exécution de script qui associe l’environnement d’exécution au script.\n",
    "\n",
    "##pas trop compris .. à revoir "
   ]
  },
  {
   "cell_type": "code",
   "execution_count": null,
   "metadata": {},
   "outputs": [],
   "source": [
    "from azureml.core import Experiment, RunConfiguration, ScriptRunConfig\n",
    "\n",
    "# create a new RunConfig object\n",
    "experiment_run_config = RunConfiguration()\n",
    "\n",
    "# Create a script config\n",
    "script_config = ScriptRunConfig(source_directory=experiment_folder, \n",
    "                      script='experiment.py',\n",
    "                      run_config=experiment_run_config) \n",
    "\n",
    "# submit the experiment\n",
    "experiment = Experiment(workspace = ws, name = 'my-experiment')\n",
    "run = experiment.submit(config=script_config)\n",
    "run.wait_for_completion(show_output=True)"
   ]
  },
  {
   "cell_type": "code",
   "execution_count": null,
   "metadata": {},
   "outputs": [],
   "source": []
  }
 ],
 "metadata": {
  "kernelspec": {
   "display_name": "Python 3",
   "language": "python",
   "name": "python3"
  },
  "language_info": {
   "codemirror_mode": {
    "name": "ipython",
    "version": 3
   },
   "file_extension": ".py",
   "mimetype": "text/x-python",
   "name": "python",
   "nbconvert_exporter": "python",
   "pygments_lexer": "ipython3",
   "version": "3.7.4"
  }
 },
 "nbformat": 4,
 "nbformat_minor": 2
}
