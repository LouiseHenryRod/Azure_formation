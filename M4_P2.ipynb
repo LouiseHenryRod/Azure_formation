{
 "cells": [
  {
   "cell_type": "markdown",
   "metadata": {},
   "source": [
    "## Working with compute contexts in Azure ML"
   ]
  },
  {
   "cell_type": "markdown",
   "metadata": {},
   "source": [
    "### Introduction to Environment"
   ]
  },
  {
   "cell_type": "markdown",
   "metadata": {},
   "source": [
    "### Creating Environments"
   ]
  },
  {
   "cell_type": "markdown",
   "metadata": {},
   "source": [
    "##### Créer un env à partir d'un fichier de spécification"
   ]
  },
  {
   "cell_type": "markdown",
   "metadata": {},
   "source": [
    "1- créer un fichier **conda.yml** avec les paramètres de configuration:"
   ]
  },
  {
   "cell_type": "code",
   "execution_count": null,
   "metadata": {},
   "outputs": [],
   "source": [
    "name: py_env\n",
    "dependencies:\n",
    "  - numpy\n",
    "  - pandas\n",
    "  - scikit-learn\n",
    "  - pip:\n",
    "    - azureml-defaults"
   ]
  },
  {
   "cell_type": "markdown",
   "metadata": {},
   "source": [
    "2- Créer un env Azure ML à partir du fichiers de spec enregistrées:"
   ]
  },
  {
   "cell_type": "code",
   "execution_count": null,
   "metadata": {},
   "outputs": [],
   "source": [
    "from azureml.core import Environment\n",
    "\n",
    "env = Environment.from_conda_specification(name='training_environment',\n",
    "                                           file_path='./conda.yml')"
   ]
  },
  {
   "cell_type": "markdown",
   "metadata": {},
   "source": [
    "##### Création d'un environement à partir d'un Conda existant "
   ]
  },
  {
   "cell_type": "code",
   "execution_count": null,
   "metadata": {},
   "outputs": [],
   "source": [
    "from azureml.core import Environment\n",
    "\n",
    "env = Environment.from_existing_conda_environment(name='training_environment',\n",
    "                                                  conda_environment_name='py_env') #correspond au nom spécifié du \n",
    "                                                                                   #fichier conda.yml"
   ]
  },
  {
   "cell_type": "markdown",
   "metadata": {},
   "source": [
    "##### Création d'un evnironement en spécifiant les packages "
   ]
  },
  {
   "cell_type": "markdown",
   "metadata": {},
   "source": [
    "Objet = **CondaDependencies** => offre la possibilité de spécifier les packages conda et pip. "
   ]
  },
  {
   "cell_type": "code",
   "execution_count": null,
   "metadata": {},
   "outputs": [],
   "source": [
    "from azureml.core import Environment\n",
    "from azureml.core.conda_dependencies import CondaDependencies\n",
    "\n",
    "env = Environment('training_environment')\n",
    "deps = CondaDependencies.create(conda_packages=['scikit-learn','pandas','numpy'],\n",
    "                                pip_packages=['azureml-defaults'])\n",
    "\n",
    "\n",
    "env.python.conda_dependencies = deps"
   ]
  },
  {
   "cell_type": "code",
   "execution_count": null,
   "metadata": {},
   "outputs": [],
   "source": [
    "#exercice exemple:\n",
    "\n",
    "from azureml.core import Environment\n",
    "from azureml.core.conda_dependencies import CondaDependencies\n",
    "\n",
    "# Create a Python environment for the experiment\n",
    "diabetes_env = Environment(\"diabetes-experiment-env\")\n",
    "diabetes_env.python.user_managed_dependencies = False # Let Azure ML manage dependencies\n",
    "diabetes_env.docker.enabled = True # Use a docker container\n",
    "\n",
    "# Create a set of package dependencies (conda or pip as required)\n",
    "diabetes_packages = CondaDependencies.create(conda_packages=['scikit-learn'],\n",
    "                                          pip_packages=['azureml-defaults', 'azureml-dataprep[pandas]'])\n",
    "\n",
    "# Add the dependencies to the environment\n",
    "diabetes_env.python.conda_dependencies = diabetes_packages\n",
    "\n",
    "print(diabetes_env.name, 'defined.')"
   ]
  },
  {
   "cell_type": "markdown",
   "metadata": {},
   "source": [
    "### Enregistrement et réutilsation des environements"
   ]
  },
  {
   "cell_type": "markdown",
   "metadata": {},
   "source": [
    "- où ? : dans un ET\n",
    "- utilisable pour de futurs expériences ayant même dépendance python"
   ]
  },
  {
   "cell_type": "markdown",
   "metadata": {},
   "source": [
    "##### Enregistrement"
   ]
  },
  {
   "cell_type": "markdown",
   "metadata": {},
   "source": [
    "1- Enregsitrement "
   ]
  },
  {
   "cell_type": "code",
   "execution_count": null,
   "metadata": {},
   "outputs": [],
   "source": [
    "env.register(workspace=ws)"
   ]
  },
  {
   "cell_type": "markdown",
   "metadata": {},
   "source": [
    "2- Affichage des environnements enregistrés dans l'ET "
   ]
  },
  {
   "cell_type": "code",
   "execution_count": null,
   "metadata": {},
   "outputs": [],
   "source": [
    "from azureml.core import Environment\n",
    "\n",
    "env_names = Environment.list(workspace=ws)\n",
    "\n",
    "\n",
    "for env_name in env_names:\n",
    "    print('Name:',env_name)"
   ]
  },
  {
   "cell_type": "markdown",
   "metadata": {},
   "source": [
    "##### Recuperation et utllisation d'un environement"
   ]
  },
  {
   "cell_type": "code",
   "execution_count": null,
   "metadata": {},
   "outputs": [],
   "source": [
    "from azureml.core import Environment, Estimator\n",
    "\n",
    "training_env = Environment.get(workspace=ws, name='training_environment')\n",
    "estimator = Estimator(source_directory='experiment_folder'\n",
    "                      entry_script='training_script.py',\n",
    "                      compute_target='local',\n",
    "                      environment_definition=training_env)"
   ]
  },
  {
   "cell_type": "markdown",
   "metadata": {},
   "source": [
    "Si spéc d'un environement, Azure ML recherchera un environement existant qui correspond à la définition \n",
    "Si spéc non trouvée  => nouvel env sera créer en fonctio de la spé d'env enregistré. "
   ]
  },
  {
   "cell_type": "markdown",
   "metadata": {},
   "source": [
    "### Introduction to compute target"
   ]
  },
  {
   "cell_type": "markdown",
   "metadata": {},
   "source": [
    "**defintion compute target**: ordinateurs physiques ou virtuels sur lesquels des expériences sont exécutées.Cela offre la possibilité d'affecter des exécutions d'expériences à des cibles de calcul spécifiques"
   ]
  },
  {
   "cell_type": "markdown",
   "metadata": {},
   "source": [
    "L'un des principaux avantages du cloud computing est la capacité de gérer les coûts en ne payant que pour ce que vous utilisez. Dans Azure Machine Learning, vous pouvez tirer parti de ce principe en définissant des cibles de calcul qui:\n",
    "\n",
    "- Démarrez à la demande et arrêtez automatiquement lorsqu'il n'est plus nécessaire.\n",
    "- Évoluez automatiquement en fonction des besoins de traitement de la charge de travail"
   ]
  },
  {
   "cell_type": "markdown",
   "metadata": {},
   "source": [
    "##### Type de calcul"
   ]
  },
  {
   "cell_type": "markdown",
   "metadata": {},
   "source": [
    "- <font color=\"red\">1) Calcul local</font>"
   ]
  },
  {
   "cell_type": "markdown",
   "metadata": {},
   "source": [
    "Cela exécute l'expérience sur la même cible de calcul que le code utilisé pour lancer l'expérience, qui peut être votre poste de travail physique ou une machine virtuelle telle qu'une instance de calcul Azure Machine Learning sur laquelle vous exécutez un bloc-notes.\n",
    "Le calcul local est généralement un excellent choix lors du développement et des tests avec des volumes de données faibles à modérés."
   ]
  },
  {
   "cell_type": "markdown",
   "metadata": {},
   "source": [
    "- <font color=\"red\">2) Training Clusters</font>"
   ]
  },
  {
   "cell_type": "markdown",
   "metadata": {},
   "source": [
    "Pour les charges de travail de formation avec des exigences d'évolutivité élevées, vous pouvez utiliser des clusters de formation Azure Machine Learning; qui sont des clusters multi-nœuds de machines virtuelles qui évoluent automatiquement vers le haut ou vers le bas pour répondre à la demande.\n",
    "\n",
    "avantage :\n",
    "- rentable pour executer exp avec de gros volumes de données\n",
    "- permet un traitement parallèle pour répartir la charge de travail et réduire le temps d'exécution"
   ]
  },
  {
   "cell_type": "markdown",
   "metadata": {},
   "source": [
    "- <font color=\"red\">3) Clusters d'inférence</font>"
   ]
  },
  {
   "cell_type": "markdown",
   "metadata": {},
   "source": [
    "Pour déployer des modèles formés en tant que services de production, vous pouvez utiliser des clusters d'inférence Azure Machine Learning, qui utilisent des technologies de conteneurisation pour permettre une initialisation rapide du calcul pour l'inférence à la demande."
   ]
  },
  {
   "cell_type": "markdown",
   "metadata": {},
   "source": [
    "- <font color=\"red\">4) Attached Compute</font>"
   ]
  },
  {
   "cell_type": "markdown",
   "metadata": {},
   "source": [
    "Si vous utilisez déjà un environnement de calcul basé sur Azure pour la science des données, tel qu'une machine virtuelle ou un cluster Azure Databricks, vous pouvez le joindre à votre espace de travail Azure Machine Learning et l'utiliser comme cible de calcul pour certains types de charge de travail."
   ]
  },
  {
   "cell_type": "markdown",
   "metadata": {},
   "source": [
    "### Créer des compute target "
   ]
  },
  {
   "cell_type": "markdown",
   "metadata": {},
   "source": [
    "##### Create Managed compute target"
   ]
  },
  {
   "cell_type": "markdown",
   "metadata": {},
   "source": [
    "Definition:A **managed compute target** is one that is managed by Azure Machine Learning, such as an Azure Machine Learning training cluster."
   ]
  },
  {
   "cell_type": "code",
   "execution_count": null,
   "metadata": {},
   "outputs": [],
   "source": [
    "#1 vérification de la présence d'une compute target sinon création\n",
    "\n",
    "from azureml.core.compute import ComputeTarget, AmlCompute\n",
    "from azureml.core.compute_target import ComputeTargetException\n",
    "\n",
    "cluster_name = \"aml-cluster\"\n",
    "\n",
    "try:\n",
    "    # Check for existing compute target\n",
    "    training_cluster = ComputeTarget(workspace=ws, name=cluster_name)\n",
    "    print('Found existing cluster, use it.')\n",
    "except ComputeTargetException:\n",
    "    # If it doesn't already exist, create it\n",
    "    compute_config = AmlCompute.provisioning_configuration(vm_size='STANDARD_DS12_V2', max_nodes=4)\n",
    "    training_cluster = ComputeTarget.create(ws, cluster_name, compute_config)\n",
    "\n",
    "training_cluster.wait_for_completion(show_output=True)"
   ]
  },
  {
   "cell_type": "markdown",
   "metadata": {},
   "source": []
  },
  {
   "cell_type": "markdown",
   "metadata": {},
   "source": []
  },
  {
   "cell_type": "markdown",
   "metadata": {},
   "source": [
    "Exemple de création de Azure ML training cluster compute target via deux classes:\n",
    "- azureml.core.ComputeTarget \n",
    "- azureml.core.AmlCompute"
   ]
  },
  {
   "cell_type": "code",
   "execution_count": null,
   "metadata": {},
   "outputs": [],
   "source": [
    "from azureml.core import Workspace\n",
    "from azureml.core.compute import ComputeTarget, AmlCompute\n",
    "\n",
    "# Load the workspace from the saved config file\n",
    "ws = Workspace.from_config()\n",
    "\n",
    "# Specify a name for the compute (unique within the workspace)\n",
    "compute_name = 'aml-cluster'\n",
    "\n",
    "# Define compute configuration\n",
    "compute_config = AmlCompute.provisioning_configuration(vm_size='STANDARD_DS12_V2',\n",
    "                                                       min_nodes=0, max_nodes=4,\n",
    "                                                       vm_priority='dedicated')\n",
    "\n",
    "# Create the compute\n",
    "aml_cluster = ComputeTarget.create(ws, compute_name, compute_config)\n",
    "\n",
    "aml_cluster.wait_for_completion(show_output=True)"
   ]
  },
  {
   "cell_type": "markdown",
   "metadata": {},
   "source": [
    "Here, creation of : \n",
    "- a cluster with up to four nodes \n",
    "- based on the STANDARD_DS12_v2 virtual machine image \n",
    "- The priority for the virtual machines (VMs) is set to **dedicated** : meaning they are reserved for use in this cluster \n",
    "\n",
    "alternative to dedicated is **lowpriority**: which has a lower cost but means that the VMs can be preempted if a higher-priority workload requires the compute)"
   ]
  },
  {
   "cell_type": "markdown",
   "metadata": {},
   "source": [
    "##### Create unmanaged compute target"
   ]
  },
  {
   "cell_type": "markdown",
   "metadata": {},
   "source": [
    "An **unmanaged compute target** is one that is defined and managed outside of the Azure Machine Learning workspace; for example, an Azure virtual machine or an Azure Databricks cluster.\n",
    "\n",
    "méthode **ComputeTarget.attach ()** pour attacher le calcul existant en fonction de ses paramètres de configuration spécifiques à la cible"
   ]
  },
  {
   "cell_type": "code",
   "execution_count": null,
   "metadata": {},
   "outputs": [],
   "source": [
    "#exemple pour ajouter/attacher un cluster databricks existant\n",
    "\n",
    "from azureml.core import Workspace\n",
    "from azureml.core.compute import ComputeTarget, DatabricksCompute\n",
    "\n",
    "# Load the workspace from the saved config file\n",
    "ws = Workspace.from_config()\n",
    "\n",
    "# Specify a name for the compute (unique within the workspace)\n",
    "compute_name = 'db_cluster'\n",
    "\n",
    "# Define configuration for existing Azure Databricks cluster\n",
    "db_workspace_name = 'db_workspace'\n",
    "db_resource_group = 'db_resource_group'\n",
    "db_access_token = '1234-abc-5678-defg-90...'\n",
    "db_config = DatabricksCompute.attach_configuration(resource_group=db_resource_group,\n",
    "                                                   workspace_name=db_workspace_name,\n",
    "                                                   access_token=db_access_token)\n",
    "\n",
    "# Create the compute\n",
    "databricks_compute = ComputeTarget.attach(ws, compute_name, db_config)\n",
    "databricks_compute.wait_for_completion(True)"
   ]
  },
  {
   "cell_type": "markdown",
   "metadata": {},
   "source": [
    "##### Checking for an existing compute target\n"
   ]
  },
  {
   "cell_type": "markdown",
   "metadata": {},
   "source": [
    "ComputeTargetException"
   ]
  },
  {
   "cell_type": "code",
   "execution_count": null,
   "metadata": {},
   "outputs": [],
   "source": [
    "from azureml.core.compute import ComputeTarget, AmlCompute\n",
    "from azureml.core.compute_target import ComputeTargetException\n",
    "\n",
    "compute_name = \"aml-cluster\"\n",
    "\n",
    "# Check if the compute target exists\n",
    "try:\n",
    "    aml_cluster = ComputeTarget(workspace=ws, name=compute_name)\n",
    "    print('Found existing cluster.')\n",
    "except ComputeTargetException:\n",
    "    # If not, create it\n",
    "    compute_config = AmlCompute.provisioning_configuration(vm_size='STANDARD_DS12_V2',\n",
    "                                                           max_nodes=4)\n",
    "    aml_cluster = ComputeTarget.create(ws, compute_name, compute_config)\n",
    "\n",
    "aml_cluster.wait_for_completion(show_output=True)"
   ]
  },
  {
   "cell_type": "markdown",
   "metadata": {},
   "source": [
    "##### En général sur les compute target"
   ]
  },
  {
   "cell_type": "markdown",
   "metadata": {},
   "source": [
    "When you run a script as an Azure Machine Learning experiment, you need to define the execution context for the experiment run. The execution context is made up of:\n",
    "\n",
    "- The Python **environment** for the script, which must include **all Python packages used in the script**.\n",
    "\n",
    "- The **compute target** on which the script will be run (**local workstation** from which the experiment run is initiated, or **compute target** (exemple: training cluster that is provisioned on-demand)."
   ]
  },
  {
   "cell_type": "markdown",
   "metadata": {},
   "source": [
    "Défine an environment :\n",
    "\n",
    "When you run a Python script as an experiment in Azure Machine Learning, a Conda environment is created to define the execution context for the script.\n",
    "\n",
    "Azure Machine Learning provides a default environment that includes common packages: ex => azureml-defaults package that contains the libraries necessary for working with an experiment run,"
   ]
  },
  {
   "cell_type": "markdown",
   "metadata": {},
   "source": [
    "In a typical model development lifecycle, you might:\n",
    "\n",
    "- **Start by developing and experimenting on a small amount of data**. At this stage, we recommend your **local environment (local computer or cloud-based VM)** as your compute target.\n",
    "\n",
    "- **Scale up to larger data, or do distributed training** using one of these **training compute targets** (Azure Databricks, Azure Data Lake Analytics, Azure Machine Learning compute cluster, Azure Batch etc...)\n",
    "\n",
    "- Once your **model is ready**, **deploy it to a web hosting environment or IoT device with one of these deployment compute targets.** (Azure Machine Learning compute instance web service, Azure Kubernetes Service (AKS), Azure Container Instances etc...)"
   ]
  },
  {
   "cell_type": "markdown",
   "metadata": {},
   "source": [
    "### Utiliser des compute targets"
   ]
  },
  {
   "cell_type": "markdown",
   "metadata": {},
   "source": [
    "After you've created environments and compute targets in your workspace, you can use them to run specific workloads; such as experiments.\n",
    "\n",
    "example, the following code configures an estimator to **use the compute target named** aml-cluster:"
   ]
  },
  {
   "cell_type": "code",
   "execution_count": null,
   "metadata": {},
   "outputs": [],
   "source": [
    "from azureml.core import Environment, Estimator\n",
    "\n",
    "compute_name = 'aml-cluster'\n",
    "\n",
    "training_env = Environment.get(workspace=ws, name='training_environment')\n",
    "\n",
    "estimator = Estimator(source_directory='experiment_folder',\n",
    "                      entry_script='training_script.py',\n",
    "                      environment_definition=training_env,\n",
    "                      compute_target=compute_name) "
   ]
  },
  {
   "cell_type": "markdown",
   "metadata": {},
   "source": [
    "Instead of specifying the name of the compute target, you can specify a **ComputeTarget object**, like this:"
   ]
  },
  {
   "cell_type": "code",
   "execution_count": null,
   "metadata": {},
   "outputs": [],
   "source": [
    "from azureml.core import Environment, Estimator\n",
    "from azureml.core.compute import ComputeTarget\n",
    "\n",
    "compute_name = 'aml-cluster'\n",
    "**training_cluster** = ComputeTarget(workspace=ws, name=compute_name)\n",
    "\n",
    "\n",
    "\n",
    "training_env = Environment.get(workspace=ws, name='training_environment')\n",
    "\n",
    "estimator = Estimator(source_directory='experiment_folder',\n",
    "                      entry_script='training_script.py',\n",
    "                      environment_definition=training_env,\n",
    "                      compute_target=**training_cluster**)"
   ]
  }
 ],
 "metadata": {
  "kernelspec": {
   "display_name": "Python 3",
   "language": "python",
   "name": "python3"
  },
  "language_info": {
   "codemirror_mode": {
    "name": "ipython",
    "version": 3
   },
   "file_extension": ".py",
   "mimetype": "text/x-python",
   "name": "python",
   "nbconvert_exporter": "python",
   "pygments_lexer": "ipython3",
   "version": "3.7.4"
  }
 },
 "nbformat": 4,
 "nbformat_minor": 2
}
