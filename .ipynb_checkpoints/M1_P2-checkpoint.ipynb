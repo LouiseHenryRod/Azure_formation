{
 "cells": [
  {
   "cell_type": "markdown",
   "metadata": {},
   "source": [
    "# Module 1 Partie 2"
   ]
  },
  {
   "cell_type": "markdown",
   "metadata": {},
   "source": [
    "### Création d'un espace de travail Azure"
   ]
  },
  {
   "cell_type": "markdown",
   "metadata": {},
   "source": [
    "Un espace de travail est un ensemble de ressources lui même contenu dans un groupe de ressources:\n",
    "\n",
    "Mircosoft ==>  Abonnement ==>  Groupe de ressources: \n",
    "                                        - Compte de stockage\n",
    "                                        - application insights\n",
    "                                        - coffre clés\n",
    "                                        - VM\n",
    "                                        - Regisre de conteneurs\n",
    "                                        - **Espace de travail** \n",
    "                                                    |\n",
    "                                                    |==>  - calcul \n",
    "                                                          - Notebook\n",
    "                                                          - Pipeline\n",
    "                                                          - Données\n",
    "                                                          - Expérience\n",
    "                                                          - Modèles\n"
   ]
  },
  {
   "cell_type": "markdown",
   "metadata": {},
   "source": [
    "**Espace de travail**\n",
    "\n",
    "calcul: cible de calcul, d'entrainement + deploiement \n",
    "Notebook\n",
    "Pipeline: définit porcessus orchestré en plusieurs étapes\n",
    "Données: pour experimentation + entrainement\n",
    "Expérience: + historique execution ac métriques+sorties journalières                                                 Modèles (entrainés)\n",
    "\n",
    "**groupe de ressources**\n",
    "\n",
    "Compte de sotckage: stocker fichiers + données d'entraiement utilisé dans espace de travail (ET)\n",
    "Instance Application insights: superviser services prédictif de l'ET\n",
    "Instance Azure key Vault :  gestion éléments secret tq les clés d'auth.\n",
    "VM\n",
    "Registre de conteneurs : gestion conteneurs pour modèles déployés "
   ]
  },
  {
   "cell_type": "markdown",
   "metadata": {},
   "source": [
    "**3 manières** de créer un espace de travail:\n",
    "\n",
    "1- via le portail (clique bouton)"
   ]
  },
  {
   "cell_type": "markdown",
   "metadata": {},
   "source": [
    "2- via un SDK python"
   ]
  },
  {
   "cell_type": "code",
   "execution_count": 5,
   "metadata": {},
   "outputs": [
    {
     "name": "stderr",
     "output_type": "stream",
     "text": [
      "UserWarning: The resource group doesn't exist or was not provided. AzureML SDK is creating a resource group=aml-resourcesgroup in location=eastus using subscription=6f1ad109-aa25-4669-a078-5ccf43db778e.\n"
     ]
    },
    {
     "name": "stdout",
     "output_type": "stream",
     "text": [
      "Deploying StorageAccount with name amlworksstorage03dda8055.\n",
      "Deploying AppInsights with name amlworksinsights28d1c4e3.\n",
      "Deployed AppInsights with name amlworksinsights28d1c4e3. Took 18.91 seconds.\n",
      "Deploying KeyVault with name amlworkskeyvaultde88dfd7.\n",
      "Deployed KeyVault with name amlworkskeyvaultde88dfd7. Took 36.91 seconds.\n",
      "Deployed StorageAccount with name amlworksstorage03dda8055. Took 40.89 seconds.\n",
      "Deploying Workspace with name aml-workspace.\n",
      "Deployed Workspace with name aml-workspace. Took 117.63 seconds.\n"
     ]
    }
   ],
   "source": [
    "from azureml.core import Workspace\n",
    "    \n",
    "ws = Workspace.create(name='aml-workspace', \n",
    "                      subscription_id='6f1ad109-aa25-...',\n",
    "                      resource_group='aml-resourcesgroup',\n",
    "                      create_resource_group=True,\n",
    "                      location='eastus',\n",
    "                      sku='enterprise'\n",
    "                     )"
   ]
  },
  {
   "cell_type": "markdown",
   "metadata": {},
   "source": [
    "3- via l’interface de ligne de commande (CLI) Azure avec l’extension CLI Azure Machine Learning"
   ]
  },
  {
   "cell_type": "code",
   "execution_count": null,
   "metadata": {},
   "outputs": [],
   "source": [
    "az ml workspace create -w 'aml-workspace' -g 'aml-resources'\n"
   ]
  },
  {
   "cell_type": "code",
   "execution_count": null,
   "metadata": {},
   "outputs": [],
   "source": [
    "#!pip install azureml-sdk"
   ]
  },
  {
   "cell_type": "markdown",
   "metadata": {},
   "source": [
    "Le SDK comprend des bonus facultatifs qui ne sont pas nécessaires pour les opérations de base. Exemple, \n",
    "- le bonus **notebooks** inclut des widgets pour afficher une sortie détaillée dans les notebooks Jupyter, \n",
    "- le bonus **automl** inclut des packages pour l’entraînement de machine learning automatisé \n",
    "- le bonus **explain** inclut des packages pour la génération d’explications de modèle"
   ]
  },
  {
   "cell_type": "code",
   "execution_count": null,
   "metadata": {},
   "outputs": [],
   "source": [
    "#installation de ces bonus \n",
    "!pip install azureml-sdk[notebooks,automl,explain]"
   ]
  },
  {
   "cell_type": "markdown",
   "metadata": {},
   "source": [
    "Pour se connecter à un espace de travail --> utilisation d'un fichier de configuration d’espace de travail: fichier json qui comprends les détails de l'abonnement azure du type:\n",
    "\n",
    "{\n",
    "    **\"subscription_id\"**: \"1234567-abcde-890-fgh...\",\n",
    "    **\"resource_group\"**: \"aml-resources\",\n",
    "    **\"workspace_name\"**: \"aml-workspace\"\n",
    "}\n",
    "\n",
    "par exemple nous on a fait\n",
    "\n",
    "{\n",
    "    \"subscription_id\": \"6f1ad109-aa25-4669-a078-5ccf43db778e\",\n",
    "    \"resource_group\": \"aml-ressourcesgroup\",\n",
    "    \"workspace_name\": \"aml-workspace\"\n",
    "}"
   ]
  },
  {
   "cell_type": "code",
   "execution_count": 3,
   "metadata": {},
   "outputs": [
    {
     "name": "stderr",
     "output_type": "stream",
     "text": [
      "WARNING - Note, we have launched a browser for you to login. For old experience with device code, use \"az login --use-device-code\"\n"
     ]
    },
    {
     "name": "stdout",
     "output_type": "stream",
     "text": [
      "Performing interactive authentication. Please follow the instructions on the terminal.\n"
     ]
    },
    {
     "name": "stderr",
     "output_type": "stream",
     "text": [
      "WARNING - You have logged in. Now let us find all the subscriptions to which you have access...\n"
     ]
    },
    {
     "name": "stdout",
     "output_type": "stream",
     "text": [
      "Interactive authentication successfully completed.\n"
     ]
    }
   ],
   "source": [
    "from azureml.core import Workspace\n",
    "\n",
    "ws = Workspace.from_config(\"/Users/louiserodriguez/Downloads/config.json\")"
   ]
  },
  {
   "cell_type": "markdown",
   "metadata": {},
   "source": [
    "Par défaut, la méthode from_config recherche un fichier nommé **config.json** dans le dossier qui contient le fichier de code Python, mais vous pouvez spécifier un autre chemin si nécessaire."
   ]
  },
  {
   "cell_type": "markdown",
   "metadata": {},
   "source": [
    "Et sinon, autre alternative:"
   ]
  },
  {
   "cell_type": "code",
   "execution_count": null,
   "metadata": {},
   "outputs": [],
   "source": [
    "from azureml.core import Workspace\n",
    "\n",
    "ws = Workspace.get(name='aml-workspace',\n",
    "                   subscription_id='1234567-abcde-890-fgh...',\n",
    "                   resource_group='aml-resources')"
   ]
  },
  {
   "cell_type": "code",
   "execution_count": null,
   "metadata": {},
   "outputs": [],
   "source": [
    "Rmq: authentification nécessaire quelque soit la technique"
   ]
  },
  {
   "cell_type": "markdown",
   "metadata": {},
   "source": [
    "**Elements d'info à remplir**:\n",
    "\n",
    "1) le nom de la ressource\n",
    "\n",
    "2) le nom du groupe de ressources\n",
    "\n",
    "3) l'identifiant (subscription id)\n",
    "\n",
    "4) la location/region\n",
    "\n",
    "5) l'edition de l'espace de travail: ENTREPRISE/BASE"
   ]
  },
  {
   "cell_type": "markdown",
   "metadata": {},
   "source": [
    "### Extension CLI azure ML"
   ]
  },
  {
   "cell_type": "markdown",
   "metadata": {},
   "source": [
    "az extension add -n azure-cli-ml\n",
    "\n",
    "-g : raccurcis pour ressources groupe\n",
    "-w : raccourcis pour workspace name"
   ]
  },
  {
   "cell_type": "markdown",
   "metadata": {},
   "source": [
    "### Instance de calcul (VM)"
   ]
  },
  {
   "cell_type": "markdown",
   "metadata": {},
   "source": [
    "Fournit un environnement de dvp géré avec les autres ressources de l'ET"
   ]
  },
  {
   "cell_type": "markdown",
   "metadata": {},
   "source": [
    "### Visual Studio Code"
   ]
  },
  {
   "cell_type": "markdown",
   "metadata": {},
   "source": [
    "Package Azure ML : fournit interface graphique pour l\"utilisation des ressoucres dns un espace de tavail Azure"
   ]
  },
  {
   "cell_type": "markdown",
   "metadata": {},
   "source": [
    "### Les Experiences chez Azure ML"
   ]
  },
  {
   "cell_type": "markdown",
   "metadata": {},
   "source": [
    "Une experience : c'est un processus nommé, cela peut être l'execution d'un script ou pipeline qui peut généer des métriques et sorties et faire objet d'un suivit dans l'espace de travail\n",
    "\n",
    "Peut être executé plusieurs fois avec des données, script et paramètres différents. "
   ]
  },
  {
   "cell_type": "code",
   "execution_count": null,
   "metadata": {},
   "outputs": [],
   "source": [
    "from azureml.core import Experiment\n",
    "\n",
    "# create an experiment variable\n",
    "experiment = Experiment(workspace = ws, name = \"my-experiment\")\n",
    "\n",
    "# start the experiment\n",
    "run = experiment.start_logging()\n",
    "\n",
    "# experiment code goes here\n",
    "\n",
    "# end the experiment\n",
    "run.complete()"
   ]
  },
  {
   "cell_type": "markdown",
   "metadata": {},
   "source": [
    "Une fois l’exécution de l’expérience terminée, vous pouvez voir ses détails sous l’onglet Expériences dans Azure Machine Learning Studio."
   ]
  },
  {
   "cell_type": "markdown",
   "metadata": {},
   "source": [
    "##### Journalisation de métrique et création de sorties"
   ]
  },
  {
   "cell_type": "markdown",
   "metadata": {},
   "source": [
    "Experiences génèrent des **fichiers journaux**:\n",
    "- possibilité d'ajout de print pour écrire message dans journal\n",
    "- possibilité d'utiliser l'objet Run et ses fonctions  pour enregistrer 1 valeure nommées, une list une ligne avec plusieurs colonnes, 1 dictionnaire, 1 fichier image\n",
    "\n"
   ]
  },
  {
   "cell_type": "markdown",
   "metadata": {},
   "source": [
    "Exemple, le code suivant enregistre le nombre d’observations (enregistrements) dans un fichier CSV"
   ]
  },
  {
   "cell_type": "code",
   "execution_count": null,
   "metadata": {},
   "outputs": [],
   "source": [
    "from azureml.core import Experiment\n",
    "import pandas as pd\n",
    "\n",
    "# Create an Azure ML experiment in your workspace\n",
    "experiment = Experiment(workspace = ws, name = 'my-experiment')\n",
    "\n",
    "# Start logging data from the experiment\n",
    "run = experiment.start_logging()\n",
    "\n",
    "# load the dataset and count the rows\n",
    "data = pd.read_csv('data.csv')\n",
    "row_count = (len(data))\n",
    "\n",
    "# Log the row count: run.log enregistre 1 ligne avec plusieurs colonnes\n",
    "run.log('observations', row_count)\n",
    "\n",
    "# Complete the experiment\n",
    "run.complete()"
   ]
  },
  {
   "cell_type": "markdown",
   "metadata": {},
   "source": [
    "##### Recupération et affichage des métriques journalisées "
   ]
  },
  {
   "cell_type": "markdown",
   "metadata": {},
   "source": [
    "Première façon:"
   ]
  },
  {
   "cell_type": "code",
   "execution_count": null,
   "metadata": {},
   "outputs": [],
   "source": [
    "from azureml.widgets import RunDetails\n",
    "\n",
    "RunDetails(run).show()\n",
    "\n",
    "#run étant l'experience créée précedemment "
   ]
  },
  {
   "cell_type": "markdown",
   "metadata": {},
   "source": [
    "Deuxième façon:"
   ]
  },
  {
   "cell_type": "code",
   "execution_count": null,
   "metadata": {},
   "outputs": [],
   "source": [
    "#obtnenir le résultat au format json en sortie du type\n",
    "'''\n",
    "{\n",
    "  \"observations\": 15000\n",
    "}\n",
    "'''\n",
    "import json\n",
    "\n",
    "# Get logged metrics\n",
    "metrics = run.get_metrics()\n",
    "print(json.dumps(metrics, indent=2))"
   ]
  },
  {
   "cell_type": "markdown",
   "metadata": {},
   "source": [
    "##### Fichiers de sortie d’une expérience\n"
   ]
  },
  {
   "cell_type": "markdown",
   "metadata": {},
   "source": [
    "Charger des fichiers locaux dans le dossier output de l’exécution à l’aide de la méthode upload_file de l’objet Run "
   ]
  },
  {
   "cell_type": "code",
   "execution_count": null,
   "metadata": {},
   "outputs": [],
   "source": [
    "run.upload_file(name='outputs/sample.csv', path_or_stream='./sample.csv')"
   ]
  },
  {
   "cell_type": "markdown",
   "metadata": {},
   "source": [
    "Tous les fichiers écrits dans le dossier de sorties dans le contexte de calcul sont automatiquement chargés sur le dossier de sorties.\n",
    "\n",
    "Récupérer une liste de fichiers de sortie à partir de l’objet Run "
   ]
  },
  {
   "cell_type": "code",
   "execution_count": null,
   "metadata": {},
   "outputs": [],
   "source": [
    "import json\n",
    "\n",
    "files = run.get_file_names()\n",
    "print(json.dumps(files, indent=2))"
   ]
  },
  {
   "cell_type": "markdown",
   "metadata": {},
   "source": [
    "### Execution d'un script en tant qu'experience"
   ]
  },
  {
   "cell_type": "markdown",
   "metadata": {},
   "source": [
    "pouvez exécuter une expérience inline à l’aide de la méthode **start_logging** de l’objet Experiment, mais il est plus courant d’encapsuler la logique d’expérience dans un script et d’exécuter le script en tant qu’expérience."
   ]
  },
  {
   "cell_type": "markdown",
   "metadata": {},
   "source": [
    "Un script d’expérience = un fichier de code Python qui contient le code que vous souhaitez exécuter dans l’expérience\n",
    "\n",
    "\n",
    "Pour accéder au contexte d’exécution de l’expérience (qui est nécessaire pour journaliser les métriques), le script doit importer la classe **azureml.core.Run** et appeler sa méthode **get_context**. Le script peut ensuite utiliser le contexte d’exécution pour journaliser les métriques, charger des fichiers et effectuer l’expérience"
   ]
  },
  {
   "cell_type": "code",
   "execution_count": null,
   "metadata": {},
   "outputs": [],
   "source": [
    "from azureml.core import Run\n",
    "import pandas as pd\n",
    "import matplotlib.pyplot as plt\n",
    "import os\n",
    "\n",
    "# Get the experiment run context\n",
    "run = Run.get_context()\n",
    "\n",
    "# load the diabetes dataset\n",
    "data = pd.read_csv('data.csv')\n",
    "\n",
    "# Count the rows and log the result\n",
    "row_count = (len(data))\n",
    "run.log('observations', row_count)\n",
    "\n",
    "# Save a sample of the data\n",
    "os.makedirs('outputs', exist_ok=True)\n",
    "data.sample(100).to_csv(\"outputs/sample.csv\", index=False, header=True)\n",
    "\n",
    "# Complete the run\n",
    "run.complete()"
   ]
  },
  {
   "cell_type": "markdown",
   "metadata": {},
   "source": [
    "RunConfiguration () : configuration d’exécution qui définit l’environnement Python pour l’expérience\n",
    "ScriptRunConfig() : configuration d’exécution de script qui associe l’environnement d’exécution au script.\n",
    "\n",
    "**pas trop compris .. à revoir  Q: equivalent à se mettre sur les mêmes bases (données, noyau etc) avant de lancer un potentiel nouveau script ???)**"
   ]
  },
  {
   "cell_type": "code",
   "execution_count": null,
   "metadata": {},
   "outputs": [],
   "source": [
    "from azureml.core import Experiment, RunConfiguration, ScriptRunConfig\n",
    "\n",
    "# create a new RunConfig object\n",
    "experiment_run_config = RunConfiguration()\n",
    "\n",
    "# Create a script config\n",
    "script_config = ScriptRunConfig(source_directory=experiment_folder, \n",
    "                      script='experiment.py',\n",
    "                      run_config=experiment_run_config) \n",
    "\n",
    "# submit the experiment\n",
    "experiment = Experiment(workspace = ws, name = 'my-experiment')\n",
    "run = experiment.submit(config=script_config)\n",
    "run.wait_for_completion(show_output=True)"
   ]
  },
  {
   "cell_type": "markdown",
   "metadata": {},
   "source": [
    "#### Exercices"
   ]
  },
  {
   "cell_type": "markdown",
   "metadata": {},
   "source": [
    "Note that the RunDetails widget includes a link to view the run in Azure Machine Learning studio. Click this to open a new browser tab with the run details (you can also just open Azure Machine Learning studio and find the run on the Experiments page). When viewing the run in Azure Machine Learning studio, note the following:\n",
    "\n",
    "The Properties tab contains the general properties of the experiment run.\n",
    "The Metrics tab enables you to select logged metrics and view them as tables or charts.\n",
    "The Images tab enables you to select and view any images or plots that were logged in the experiment (in this case, the Label Distribution plot)\n",
    "The Child Runs tab lists any child runs (in this experiment there are none).\n",
    "The Outputs tab shows the output files generated by the experiment.\n",
    "The Logs tab shows any logs that were generated by the compute context for the experiment (in this case, the experiment was run inline so there are no logs).\n",
    "The Snapshots tab contains all files in the folder where the experiment code was run (in this case, everything in the same folder as this notebook).\n",
    "The Raw JSON tab shows a JSON representation of the experiment details.\n",
    "The Explanations tab is used to show model explanations generated by the experiment (in this case, there are none)."
   ]
  },
  {
   "cell_type": "markdown",
   "metadata": {},
   "source": [
    "1. Create a *Run Configuration* that defines the Python code execution environment for the script - in this case, it will automatically create a Conda environment with some default Python packages installed.\n",
    "2. Create a *Script Configuration* that identifies the Python script file to be run in the experiment, and the environment in which to run it"
   ]
  },
  {
   "cell_type": "code",
   "execution_count": null,
   "metadata": {},
   "outputs": [],
   "source": [
    "%%writefile $folder_name/diabetes_experiment.py\n",
    "from azureml.core import Run\n",
    "import pandas as pd\n",
    "import os\n",
    "\n",
    "# Get the experiment run context\n",
    "run = Run.get_context()\n",
    "\n",
    "# load the diabetes dataset\n",
    "data = pd.read_csv('diabetes.csv')\n",
    "\n",
    "# Count the rows and log the result\n",
    "row_count = (len(data))\n",
    "run.log('observations', row_count)\n",
    "print('Analyzing {} rows of data'.format(row_count))\n",
    "\n",
    "# Count and log the label counts\n",
    "diabetic_counts = data['Diabetic'].value_counts()\n",
    "print(diabetic_counts)\n",
    "for k, v in diabetic_counts.items():\n",
    "    run.log('Label:' + str(k), v)\n",
    "      \n",
    "# Save a sample of the data in the outputs folder (which gets uploaded automatically)\n",
    "os.makedirs('outputs', exist_ok=True)\n",
    "data.sample(100).to_csv(\"outputs/sample.csv\", index=False, header=True)\n",
    "\n",
    "# Complete the run\n",
    "run.complete()"
   ]
  },
  {
   "cell_type": "code",
   "execution_count": 7,
   "metadata": {},
   "outputs": [
    {
     "ename": "NameError",
     "evalue": "name 'experiment_folder' is not defined",
     "output_type": "error",
     "traceback": [
      "\u001b[0;31m---------------------------------------------------------------------------\u001b[0m",
      "\u001b[0;31mNameError\u001b[0m                                 Traceback (most recent call last)",
      "\u001b[0;32m<ipython-input-7-ea2e24fc482f>\u001b[0m in \u001b[0;36m<module>\u001b[0;34m\u001b[0m\n\u001b[1;32m      8\u001b[0m \u001b[0;34m\u001b[0m\u001b[0m\n\u001b[1;32m      9\u001b[0m \u001b[0;31m# Create a script config\u001b[0m\u001b[0;34m\u001b[0m\u001b[0;34m\u001b[0m\u001b[0;34m\u001b[0m\u001b[0m\n\u001b[0;32m---> 10\u001b[0;31m src = ScriptRunConfig(source_directory=experiment_folder, \n\u001b[0m\u001b[1;32m     11\u001b[0m                       \u001b[0mscript\u001b[0m\u001b[0;34m=\u001b[0m\u001b[0;34m'diabetes_experiment.py'\u001b[0m\u001b[0;34m,\u001b[0m\u001b[0;34m\u001b[0m\u001b[0;34m\u001b[0m\u001b[0m\n\u001b[1;32m     12\u001b[0m                       run_config=experiment_run_config) \n",
      "\u001b[0;31mNameError\u001b[0m: name 'experiment_folder' is not defined"
     ]
    }
   ],
   "source": [
    "import os\n",
    "import sys\n",
    "from azureml.core import Experiment, RunConfiguration, ScriptRunConfig\n",
    "from azureml.widgets import RunDetails\n",
    "\n",
    "# create a new RunConfig object\n",
    "experiment_run_config = RunConfiguration()\n",
    "\n",
    "# Create a script config\n",
    "src = ScriptRunConfig(source_directory=experiment_folder, #non du fichier où se trouve le fichier python\n",
    "                      script='diabetes_experiment.py',   #script python à lancer \n",
    "                      run_config=experiment_run_config) \n",
    "\n",
    "# submit the experiment\n",
    "experiment = Experiment(workspace = ws, name = 'diabetes-experiment')\n",
    "run = experiment.submit(config=src)\n",
    "RunDetails(run).show()\n",
    "run.wait_for_completion()"
   ]
  },
  {
   "cell_type": "markdown",
   "metadata": {},
   "source": [
    "View experiment run history"
   ]
  },
  {
   "cell_type": "code",
   "execution_count": null,
   "metadata": {},
   "outputs": [],
   "source": [
    "from azureml.core import Experiment, Run\n",
    "\n",
    "diabetes_experiment = ws.experiments['diabetes-experiment']\n",
    "for logged_run in diabetes_experiment.get_runs():\n",
    "    print('Run ID:', logged_run.id)\n",
    "    metrics = logged_run.get_metrics()\n",
    "    for key in metrics.keys():\n",
    "        print('-', key, metrics.get(key))"
   ]
  },
  {
   "cell_type": "markdown",
   "metadata": {},
   "source": [
    "A retenir en mots clés:\n",
    "\n",
    "**création de l'espace de travail**\n",
    "\n",
    " <font color='green'>ws</font> = Workspace.get(name='aml-workspace',\n",
    "                                       subscription_id='1234567-abcde-890-fgh...',\n",
    "                                       resource_group='aml-resources')\n",
    "\n",
    "   \n",
    "**création script python  <font color='blue'>fichier.py</font> : Get the experiment run context**\n",
    "                    \n",
    "                    \n",
    "run = Run.get_context()\n",
    "|\n",
    "code py + run.log \n",
    "|\n",
    "run.complete()\n",
    "\n",
    "\n",
    "\n",
    "**faire appel au script préalablement crée pour le lancer: Create a new RunConfig object:**\n",
    "\n",
    "<font color='red'>experiment_run_config</font> = RunConfiguration()\n",
    "\n",
    "==> Définit l'environnement d'execution python pour le script. Il crée automatiquement un environnement conda avec packages.**\n",
    "\n",
    "\n",
    "\n",
    "**Create a script config:**\n",
    "\n",
    "src = ScriptRunConfig(source_directory=experiment_folder, \n",
    "                      script= <font color='blue'>'fichier.py'</font>,\n",
    "                      run_config=<font color='red'>experiment_run_config</font>)\n",
    "    \n",
    "==> Créer une config script qui identifie le fichier ython à lancer dans l'experience et l'environnemnt dans lequel le lancer**\n",
    "\n",
    "\n",
    "\n",
    "\n",
    "\n",
    "**Submit the experiment:**\n",
    "\n",
    "\n",
    "experiment = Experiment(workspace = <font color='green'>ws</font>, name = 'diabetes-experiment')\n",
    "run = experiment.submit(config=src)\n",
    "RunDetails(run).show() \n",
    "\n",
    "==> execution de l'experience**"
   ]
  },
  {
   "cell_type": "code",
   "execution_count": null,
   "metadata": {},
   "outputs": [],
   "source": []
  }
 ],
 "metadata": {
  "kernelspec": {
   "display_name": "Python 3",
   "language": "python",
   "name": "python3"
  },
  "language_info": {
   "codemirror_mode": {
    "name": "ipython",
    "version": 3
   },
   "file_extension": ".py",
   "mimetype": "text/x-python",
   "name": "python",
   "nbconvert_exporter": "python",
   "pygments_lexer": "ipython3",
   "version": "3.7.4"
  }
 },
 "nbformat": 4,
 "nbformat_minor": 2
}
