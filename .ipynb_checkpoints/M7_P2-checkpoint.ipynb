{
 "cells": [
  {
   "cell_type": "markdown",
   "metadata": {},
   "source": [
    "# Automatiser la sélection de modèles Machine Learning avec Azure Machine Learning"
   ]
  },
  {
   "cell_type": "markdown",
   "metadata": {},
   "source": [
    "Machine Learning Automatisé"
   ]
  },
  {
   "cell_type": "markdown",
   "metadata": {},
   "source": [
    "### Introduction"
   ]
  },
  {
   "cell_type": "markdown",
   "metadata": {},
   "source": [
    "permet de trouver le modèle le plus performant pour vos données en vous évitant de procéder manuellement à de nombreux essais et traitements d’erreur.\n",
    "\n",
    "- pour les espaces de travail de l’édition Entreprise uniquement"
   ]
  },
  {
   "cell_type": "markdown",
   "metadata": {},
   "source": [
    "### Tâche et algorithmes du ML automatisé"
   ]
  },
  {
   "cell_type": "markdown",
   "metadata": {},
   "source": [
    "Utilisable pour 3 types de tâche :\n",
    "- Classification\n",
    "- Régression\n",
    "- Time Series Forecasting (prédiction de série chronologique)"
   ]
  },
  {
   "cell_type": "markdown",
   "metadata": {},
   "source": [
    "Restriction de la selection d'algo: Par défaut, le Machine Learning automatisé effectue une sélection aléatoire parmi la plage complète des algorithmes pour la tâche spécifiée. Mais on peut choisir une stratégie qui limite le type d’algorithmes de machine learning que vous pouvez utiliser dans votre organisation."
   ]
  },
  {
   "cell_type": "markdown",
   "metadata": {},
   "source": [
    "### Prétraitement et caractérisation"
   ]
  },
  {
   "cell_type": "markdown",
   "metadata": {},
   "source": [
    "le Machine Learning automatisé peut appliquer des transformations de prétraitement à vos données, améliorant les performances du modèle."
   ]
  },
  {
   "cell_type": "markdown",
   "metadata": {},
   "source": [
    "- Mise à l'échelle et normalisation\n",
    "\n",
    "- caractérisation facultative: encodage, imputation de données, etc etc"
   ]
  },
  {
   "cell_type": "markdown",
   "metadata": {},
   "source": [
    "### Execution d'expériences de ML automatisé"
   ]
  },
  {
   "cell_type": "markdown",
   "metadata": {},
   "source": [
    "- <font color='red'>Configuration d’une expérience de Machine Learning automatisé:</font>\n",
    "\n",
    "\n",
    "classe --> AutoMLConfig\n"
   ]
  },
  {
   "cell_type": "code",
   "execution_count": null,
   "metadata": {},
   "outputs": [],
   "source": [
    "from azureml.train.automl import AutoMLConfig\n",
    "\n",
    "automl_run_config = RunConfiguration(framework='python')\n",
    "automl_config = AutoMLConfig(name='Automated ML Experiment',\n",
    "                             task='classification',\n",
    "                             primary_metric = 'AUC_weighted',\n",
    "                             compute_target=aml_compute,\n",
    "                             training_data = train_dataset,\n",
    "                             validation_data = test_dataset,\n",
    "                             label_column_name='Label',\n",
    "                             featurization='auto',\n",
    "                             iterations=12,\n",
    "                             max_concurrent_iterations=4)"
   ]
  },
  {
   "cell_type": "markdown",
   "metadata": {},
   "source": [
    "- <font color='red'>Spécification des données pour l’entraînement</font>\n"
   ]
  },
  {
   "cell_type": "markdown",
   "metadata": {},
   "source": [
    "Quand vous utilisez le SDK pour exécuter une expérience de Machine Learning automatisé, vous pouvez envoyer les données des manières suivantes :\n",
    "\n",
    "- Spécifiez un jeu de données ou un dataframe de données d’entraînement qui comprend des caractéristiques et l’étiquette à prédire.\n",
    "- Si vous le souhaitez, spécifiez un deuxième jeu de données de données de validation ou dataframe à utiliser pour valider le modèle entraîné. Si vous ne le faites pas, Azure Machine Learning applique la validation croisée à l’aide des données d’entraînement.\n",
    "\n",
    "\n",
    "\n",
    "Sinon \n",
    "\n",
    "- Spécifiez un jeu de données, dataframe ou tableau numpy de valeurs X contenant les caractéristiques d’entraînement, avec un tableau y de valeurs d’étiquette correspondant.\n",
    "- Si vous le souhaitez, spécifiez des dataframes, des jeux de données X_valid et y_valid ou des tableaux numpy de valeurs X_valid à utiliser pour la validation."
   ]
  },
  {
   "cell_type": "markdown",
   "metadata": {},
   "source": [
    "- <font color='red'> Spécification de la métrique principale </font>\n"
   ]
  },
  {
   "cell_type": "markdown",
   "metadata": {},
   "source": [
    "**primary_metric** = la métrique de performance cible pour laquelle le modèle optimal est déterminé\n",
    "- --> fonction get_primary_metric\n",
    "\n"
   ]
  },
  {
   "cell_type": "code",
   "execution_count": null,
   "metadata": {},
   "outputs": [],
   "source": [
    "from azureml.train.automl.utilities import get_primary_metrics\n",
    "\n",
    "get_primary_metrics('classification')"
   ]
  },
  {
   "cell_type": "markdown",
   "metadata": {},
   "source": [
    "### Envoi d’une expérience de Machine Learning automatisé\n"
   ]
  },
  {
   "cell_type": "code",
   "execution_count": null,
   "metadata": {},
   "outputs": [],
   "source": [
    "from azureml.core.experiment import Experiment\n",
    "\n",
    "automl_experiment = Experiment(ws, 'automl_experiment')\n",
    "automl_run = automl_experiment.submit(automl_config)"
   ]
  },
  {
   "cell_type": "markdown",
   "metadata": {},
   "source": [
    "### Récupération de la meilleure exécution et de son modèle\n"
   ]
  },
  {
   "cell_type": "code",
   "execution_count": null,
   "metadata": {},
   "outputs": [],
   "source": [
    "best_run, fitted_model = automl_run.get_output()\n",
    "best_run_metrics = best_run.get_metrics()\n",
    "for metric_name in best_run_metrics:\n",
    "    metric = best_run_metrics[metric_name]\n",
    "    print(metric_name, metric)"
   ]
  },
  {
   "cell_type": "markdown",
   "metadata": {},
   "source": [
    "### Exploration des étapes de prétraitement\n"
   ]
  },
  {
   "cell_type": "markdown",
   "metadata": {},
   "source": [
    "Le Machine Learning automatisé utilise des pipelines scikit-learn pour encapsuler les étapes de prétraitement avec le modèle."
   ]
  },
  {
   "cell_type": "code",
   "execution_count": null,
   "metadata": {},
   "outputs": [],
   "source": [
    "for step_ in fitted_model.named_steps:\n",
    "    print(step)"
   ]
  }
 ],
 "metadata": {
  "kernelspec": {
   "display_name": "Python 3",
   "language": "python",
   "name": "python3"
  },
  "language_info": {
   "codemirror_mode": {
    "name": "ipython",
    "version": 3
   },
   "file_extension": ".py",
   "mimetype": "text/x-python",
   "name": "python",
   "nbconvert_exporter": "python",
   "pygments_lexer": "ipython3",
   "version": "3.7.4"
  }
 },
 "nbformat": 4,
 "nbformat_minor": 2
}
